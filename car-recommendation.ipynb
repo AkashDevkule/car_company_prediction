{
 "cells": [
  {
   "cell_type": "markdown",
   "metadata": {},
   "source": [
    "**Import relevent modules**"
   ]
  },
  {
   "cell_type": "code",
   "execution_count": 1,
   "metadata": {},
   "outputs": [],
   "source": [
    "import pandas as pd\n",
    "import numpy as np\n",
    "import matplotlib.pyplot as plt"
   ]
  },
  {
   "cell_type": "markdown",
   "metadata": {},
   "source": [
    "<h2 style ='color:red' align='center'>Load and Read Dataset</h2>"
   ]
  },
  {
   "cell_type": "code",
   "execution_count": 2,
   "metadata": {},
   "outputs": [
    {
     "data": {
      "text/html": [
       "<div>\n",
       "<style scoped>\n",
       "    .dataframe tbody tr th:only-of-type {\n",
       "        vertical-align: middle;\n",
       "    }\n",
       "\n",
       "    .dataframe tbody tr th {\n",
       "        vertical-align: top;\n",
       "    }\n",
       "\n",
       "    .dataframe thead th {\n",
       "        text-align: right;\n",
       "    }\n",
       "</style>\n",
       "<table border=\"1\" class=\"dataframe\">\n",
       "  <thead>\n",
       "    <tr style=\"text-align: right;\">\n",
       "      <th></th>\n",
       "      <th>Citympg</th>\n",
       "      <th>price</th>\n",
       "      <th>Horsepower</th>\n",
       "      <th>Classification</th>\n",
       "      <th>Driveline</th>\n",
       "      <th>EngineType</th>\n",
       "      <th>FuelType</th>\n",
       "      <th>Height</th>\n",
       "      <th>Highwaympg</th>\n",
       "      <th>Hybrid</th>\n",
       "      <th>ID</th>\n",
       "      <th>Length</th>\n",
       "      <th>Make</th>\n",
       "      <th>ModelYear</th>\n",
       "      <th>NumberofForwardGears</th>\n",
       "      <th>Torque</th>\n",
       "      <th>Transmission</th>\n",
       "      <th>Width</th>\n",
       "      <th>Year</th>\n",
       "    </tr>\n",
       "  </thead>\n",
       "  <tbody>\n",
       "    <tr>\n",
       "      <th>0</th>\n",
       "      <td>18</td>\n",
       "      <td>1000</td>\n",
       "      <td>250</td>\n",
       "      <td>Automatic transmission</td>\n",
       "      <td>All-wheel drive</td>\n",
       "      <td>Audi 3.2L 6 cylinder 250hp 236ft-lbs</td>\n",
       "      <td>Gasoline</td>\n",
       "      <td>140</td>\n",
       "      <td>25</td>\n",
       "      <td>False</td>\n",
       "      <td>2009 Audi A3 3.2</td>\n",
       "      <td>143</td>\n",
       "      <td>Audi</td>\n",
       "      <td>2009 Audi A3</td>\n",
       "      <td>6</td>\n",
       "      <td>236</td>\n",
       "      <td>6 Speed Automatic Select Shift</td>\n",
       "      <td>202.0</td>\n",
       "      <td>2009</td>\n",
       "    </tr>\n",
       "    <tr>\n",
       "      <th>1</th>\n",
       "      <td>22</td>\n",
       "      <td>2000</td>\n",
       "      <td>200</td>\n",
       "      <td>Automatic transmission</td>\n",
       "      <td>Front-wheel drive</td>\n",
       "      <td>Audi 2.0L 4 cylinder 200 hp 207 ft-lbs Turbo</td>\n",
       "      <td>Gasoline</td>\n",
       "      <td>140</td>\n",
       "      <td>28</td>\n",
       "      <td>False</td>\n",
       "      <td>2009 Audi A3 2.0 T AT</td>\n",
       "      <td>143</td>\n",
       "      <td>Audi</td>\n",
       "      <td>2009 Audi A3</td>\n",
       "      <td>6</td>\n",
       "      <td>207</td>\n",
       "      <td>6 Speed Automatic Select Shift</td>\n",
       "      <td>202.0</td>\n",
       "      <td>2009</td>\n",
       "    </tr>\n",
       "    <tr>\n",
       "      <th>2</th>\n",
       "      <td>21</td>\n",
       "      <td>3000</td>\n",
       "      <td>200</td>\n",
       "      <td>Manual transmission</td>\n",
       "      <td>Front-wheel drive</td>\n",
       "      <td>Audi 2.0L 4 cylinder 200 hp 207 ft-lbs Turbo</td>\n",
       "      <td>Gasoline</td>\n",
       "      <td>140</td>\n",
       "      <td>30</td>\n",
       "      <td>False</td>\n",
       "      <td>2009 Audi A3 2.0 T</td>\n",
       "      <td>143</td>\n",
       "      <td>Audi</td>\n",
       "      <td>2009 Audi A3</td>\n",
       "      <td>6</td>\n",
       "      <td>207</td>\n",
       "      <td>6 Speed Manual</td>\n",
       "      <td>202.0</td>\n",
       "      <td>2009</td>\n",
       "    </tr>\n",
       "    <tr>\n",
       "      <th>3</th>\n",
       "      <td>21</td>\n",
       "      <td>4000</td>\n",
       "      <td>200</td>\n",
       "      <td>Automatic transmission</td>\n",
       "      <td>All-wheel drive</td>\n",
       "      <td>Audi 2.0L 4 cylinder 200 hp 207 ft-lbs Turbo</td>\n",
       "      <td>Gasoline</td>\n",
       "      <td>140</td>\n",
       "      <td>28</td>\n",
       "      <td>False</td>\n",
       "      <td>2009 Audi A3 2.0 T Quattro</td>\n",
       "      <td>143</td>\n",
       "      <td>Audi</td>\n",
       "      <td>2009 Audi A3</td>\n",
       "      <td>6</td>\n",
       "      <td>207</td>\n",
       "      <td>6 Speed Automatic Select Shift</td>\n",
       "      <td>202.0</td>\n",
       "      <td>2009</td>\n",
       "    </tr>\n",
       "    <tr>\n",
       "      <th>4</th>\n",
       "      <td>21</td>\n",
       "      <td>5000</td>\n",
       "      <td>200</td>\n",
       "      <td>Automatic transmission</td>\n",
       "      <td>All-wheel drive</td>\n",
       "      <td>Audi 2.0L 4 cylinder 200 hp 207 ft-lbs Turbo</td>\n",
       "      <td>Gasoline</td>\n",
       "      <td>140</td>\n",
       "      <td>28</td>\n",
       "      <td>False</td>\n",
       "      <td>2009 Audi A3 2.0 T Quattro</td>\n",
       "      <td>143</td>\n",
       "      <td>Audi</td>\n",
       "      <td>2009 Audi A3</td>\n",
       "      <td>6</td>\n",
       "      <td>207</td>\n",
       "      <td>6 Speed Automatic Select Shift</td>\n",
       "      <td>202.0</td>\n",
       "      <td>2009</td>\n",
       "    </tr>\n",
       "    <tr>\n",
       "      <th>...</th>\n",
       "      <td>...</td>\n",
       "      <td>...</td>\n",
       "      <td>...</td>\n",
       "      <td>...</td>\n",
       "      <td>...</td>\n",
       "      <td>...</td>\n",
       "      <td>...</td>\n",
       "      <td>...</td>\n",
       "      <td>...</td>\n",
       "      <td>...</td>\n",
       "      <td>...</td>\n",
       "      <td>...</td>\n",
       "      <td>...</td>\n",
       "      <td>...</td>\n",
       "      <td>...</td>\n",
       "      <td>...</td>\n",
       "      <td>...</td>\n",
       "      <td>...</td>\n",
       "      <td>...</td>\n",
       "    </tr>\n",
       "    <tr>\n",
       "      <th>1394</th>\n",
       "      <td>14</td>\n",
       "      <td>1395000</td>\n",
       "      <td>403</td>\n",
       "      <td>Automatic transmission</td>\n",
       "      <td>Rear-wheel drive</td>\n",
       "      <td>Cadillac 6.2L 8 Cylinder 403 hp 417 ft-lbs FFV</td>\n",
       "      <td>Gasoline</td>\n",
       "      <td>64</td>\n",
       "      <td>18</td>\n",
       "      <td>False</td>\n",
       "      <td>2011 Cadillac Escalade ESV</td>\n",
       "      <td>29</td>\n",
       "      <td>Cadillac</td>\n",
       "      <td>2011 Cadillac Escalade ESV</td>\n",
       "      <td>6</td>\n",
       "      <td>417</td>\n",
       "      <td>6 Speed Automatic Select Shift</td>\n",
       "      <td>217.0</td>\n",
       "      <td>2011</td>\n",
       "    </tr>\n",
       "    <tr>\n",
       "      <th>1395</th>\n",
       "      <td>16</td>\n",
       "      <td>1396000</td>\n",
       "      <td>270</td>\n",
       "      <td>Manual transmission</td>\n",
       "      <td>Rear-wheel drive</td>\n",
       "      <td>Cadillac 3.0L 6 Cylinder 270 hp 223 ft-lbs</td>\n",
       "      <td>Gasoline</td>\n",
       "      <td>223</td>\n",
       "      <td>26</td>\n",
       "      <td>False</td>\n",
       "      <td>2010 Cadillac CTS Sport Sedan Luxury</td>\n",
       "      <td>2</td>\n",
       "      <td>Cadillac</td>\n",
       "      <td>2010 Cadillac CTS Sport Sedan</td>\n",
       "      <td>6</td>\n",
       "      <td>223</td>\n",
       "      <td>6 Speed Manual</td>\n",
       "      <td>49.0</td>\n",
       "      <td>2010</td>\n",
       "    </tr>\n",
       "    <tr>\n",
       "      <th>1396</th>\n",
       "      <td>18</td>\n",
       "      <td>1397000</td>\n",
       "      <td>270</td>\n",
       "      <td>Automatic transmission</td>\n",
       "      <td>All-wheel drive</td>\n",
       "      <td>Cadillac 3.0L 6 Cylinder 270 hp 223 ft-lbs</td>\n",
       "      <td>Gasoline</td>\n",
       "      <td>193</td>\n",
       "      <td>27</td>\n",
       "      <td>False</td>\n",
       "      <td>2010 Cadillac CTS Sport Sedan Luxury AWD</td>\n",
       "      <td>2</td>\n",
       "      <td>Cadillac</td>\n",
       "      <td>2010 Cadillac CTS Sport Sedan</td>\n",
       "      <td>6</td>\n",
       "      <td>223</td>\n",
       "      <td>6 Speed Automatic Select Shift</td>\n",
       "      <td>49.0</td>\n",
       "      <td>2010</td>\n",
       "    </tr>\n",
       "    <tr>\n",
       "      <th>1397</th>\n",
       "      <td>18</td>\n",
       "      <td>1398000</td>\n",
       "      <td>270</td>\n",
       "      <td>Automatic transmission</td>\n",
       "      <td>Rear-wheel drive</td>\n",
       "      <td>Cadillac 3.0L 6 Cylinder 270 hp 223 ft-lbs</td>\n",
       "      <td>Gasoline</td>\n",
       "      <td>223</td>\n",
       "      <td>27</td>\n",
       "      <td>False</td>\n",
       "      <td>2010 Cadillac CTS Sport Sedan Performance</td>\n",
       "      <td>2</td>\n",
       "      <td>Cadillac</td>\n",
       "      <td>2010 Cadillac CTS Sport Sedan</td>\n",
       "      <td>6</td>\n",
       "      <td>223</td>\n",
       "      <td>6 Speed Automatic Select Shift</td>\n",
       "      <td>49.0</td>\n",
       "      <td>2010</td>\n",
       "    </tr>\n",
       "    <tr>\n",
       "      <th>1398</th>\n",
       "      <td>18</td>\n",
       "      <td>1398000</td>\n",
       "      <td>270</td>\n",
       "      <td>Automatic transmission</td>\n",
       "      <td>Rear-wheel drive</td>\n",
       "      <td>Cadillac 3.0L 6 Cylinder 270 hp 223 ft-lbs</td>\n",
       "      <td>Gasoline</td>\n",
       "      <td>223</td>\n",
       "      <td>27</td>\n",
       "      <td>False</td>\n",
       "      <td>2010 Cadillac CTS Sport Sedan Performance</td>\n",
       "      <td>2</td>\n",
       "      <td>Cadillac</td>\n",
       "      <td>2010 Cadillac CTS Sport Sedan</td>\n",
       "      <td>6</td>\n",
       "      <td>223</td>\n",
       "      <td>6 Speed Automatic Select Shift</td>\n",
       "      <td>49.0</td>\n",
       "      <td>2010</td>\n",
       "    </tr>\n",
       "  </tbody>\n",
       "</table>\n",
       "<p>1399 rows × 19 columns</p>\n",
       "</div>"
      ],
      "text/plain": [
       "      Citympg    price  Horsepower          Classification          Driveline  \\\n",
       "0          18     1000         250  Automatic transmission    All-wheel drive   \n",
       "1          22     2000         200  Automatic transmission  Front-wheel drive   \n",
       "2          21     3000         200     Manual transmission  Front-wheel drive   \n",
       "3          21     4000         200  Automatic transmission    All-wheel drive   \n",
       "4          21     5000         200  Automatic transmission    All-wheel drive   \n",
       "...       ...      ...         ...                     ...                ...   \n",
       "1394       14  1395000         403  Automatic transmission   Rear-wheel drive   \n",
       "1395       16  1396000         270     Manual transmission   Rear-wheel drive   \n",
       "1396       18  1397000         270  Automatic transmission    All-wheel drive   \n",
       "1397       18  1398000         270  Automatic transmission   Rear-wheel drive   \n",
       "1398       18  1398000         270  Automatic transmission   Rear-wheel drive   \n",
       "\n",
       "                                          EngineType  FuelType  Height  \\\n",
       "0               Audi 3.2L 6 cylinder 250hp 236ft-lbs  Gasoline     140   \n",
       "1       Audi 2.0L 4 cylinder 200 hp 207 ft-lbs Turbo  Gasoline     140   \n",
       "2       Audi 2.0L 4 cylinder 200 hp 207 ft-lbs Turbo  Gasoline     140   \n",
       "3       Audi 2.0L 4 cylinder 200 hp 207 ft-lbs Turbo  Gasoline     140   \n",
       "4       Audi 2.0L 4 cylinder 200 hp 207 ft-lbs Turbo  Gasoline     140   \n",
       "...                                              ...       ...     ...   \n",
       "1394  Cadillac 6.2L 8 Cylinder 403 hp 417 ft-lbs FFV  Gasoline      64   \n",
       "1395      Cadillac 3.0L 6 Cylinder 270 hp 223 ft-lbs  Gasoline     223   \n",
       "1396      Cadillac 3.0L 6 Cylinder 270 hp 223 ft-lbs  Gasoline     193   \n",
       "1397      Cadillac 3.0L 6 Cylinder 270 hp 223 ft-lbs  Gasoline     223   \n",
       "1398      Cadillac 3.0L 6 Cylinder 270 hp 223 ft-lbs  Gasoline     223   \n",
       "\n",
       "      Highwaympg  Hybrid                                         ID  Length  \\\n",
       "0             25   False                           2009 Audi A3 3.2     143   \n",
       "1             28   False                      2009 Audi A3 2.0 T AT     143   \n",
       "2             30   False                         2009 Audi A3 2.0 T     143   \n",
       "3             28   False                 2009 Audi A3 2.0 T Quattro     143   \n",
       "4             28   False                 2009 Audi A3 2.0 T Quattro     143   \n",
       "...          ...     ...                                        ...     ...   \n",
       "1394          18   False                 2011 Cadillac Escalade ESV      29   \n",
       "1395          26   False       2010 Cadillac CTS Sport Sedan Luxury       2   \n",
       "1396          27   False   2010 Cadillac CTS Sport Sedan Luxury AWD       2   \n",
       "1397          27   False  2010 Cadillac CTS Sport Sedan Performance       2   \n",
       "1398          27   False  2010 Cadillac CTS Sport Sedan Performance       2   \n",
       "\n",
       "          Make                      ModelYear  NumberofForwardGears  Torque  \\\n",
       "0         Audi                   2009 Audi A3                     6     236   \n",
       "1         Audi                   2009 Audi A3                     6     207   \n",
       "2         Audi                   2009 Audi A3                     6     207   \n",
       "3         Audi                   2009 Audi A3                     6     207   \n",
       "4         Audi                   2009 Audi A3                     6     207   \n",
       "...        ...                            ...                   ...     ...   \n",
       "1394  Cadillac     2011 Cadillac Escalade ESV                     6     417   \n",
       "1395  Cadillac  2010 Cadillac CTS Sport Sedan                     6     223   \n",
       "1396  Cadillac  2010 Cadillac CTS Sport Sedan                     6     223   \n",
       "1397  Cadillac  2010 Cadillac CTS Sport Sedan                     6     223   \n",
       "1398  Cadillac  2010 Cadillac CTS Sport Sedan                     6     223   \n",
       "\n",
       "                        Transmission  Width  Year  \n",
       "0     6 Speed Automatic Select Shift  202.0  2009  \n",
       "1     6 Speed Automatic Select Shift  202.0  2009  \n",
       "2                     6 Speed Manual  202.0  2009  \n",
       "3     6 Speed Automatic Select Shift  202.0  2009  \n",
       "4     6 Speed Automatic Select Shift  202.0  2009  \n",
       "...                              ...    ...   ...  \n",
       "1394  6 Speed Automatic Select Shift  217.0  2011  \n",
       "1395                  6 Speed Manual   49.0  2010  \n",
       "1396  6 Speed Automatic Select Shift   49.0  2010  \n",
       "1397  6 Speed Automatic Select Shift   49.0  2010  \n",
       "1398  6 Speed Automatic Select Shift   49.0  2010  \n",
       "\n",
       "[1399 rows x 19 columns]"
      ]
     },
     "execution_count": 2,
     "metadata": {},
     "output_type": "execute_result"
    }
   ],
   "source": [
    "data = pd.read_csv('cardata.csv')\n",
    "data"
   ]
  },
  {
   "cell_type": "code",
   "execution_count": 3,
   "metadata": {},
   "outputs": [
    {
     "data": {
      "text/html": [
       "<div>\n",
       "<style scoped>\n",
       "    .dataframe tbody tr th:only-of-type {\n",
       "        vertical-align: middle;\n",
       "    }\n",
       "\n",
       "    .dataframe tbody tr th {\n",
       "        vertical-align: top;\n",
       "    }\n",
       "\n",
       "    .dataframe thead th {\n",
       "        text-align: right;\n",
       "    }\n",
       "</style>\n",
       "<table border=\"1\" class=\"dataframe\">\n",
       "  <thead>\n",
       "    <tr style=\"text-align: right;\">\n",
       "      <th></th>\n",
       "      <th>Citympg</th>\n",
       "      <th>price</th>\n",
       "      <th>Horsepower</th>\n",
       "      <th>Classification</th>\n",
       "      <th>Driveline</th>\n",
       "      <th>EngineType</th>\n",
       "      <th>FuelType</th>\n",
       "      <th>Height</th>\n",
       "      <th>Highwaympg</th>\n",
       "      <th>Hybrid</th>\n",
       "      <th>ID</th>\n",
       "      <th>Length</th>\n",
       "      <th>Make</th>\n",
       "      <th>ModelYear</th>\n",
       "      <th>NumberofForwardGears</th>\n",
       "      <th>Torque</th>\n",
       "      <th>Transmission</th>\n",
       "      <th>Width</th>\n",
       "      <th>Year</th>\n",
       "    </tr>\n",
       "  </thead>\n",
       "  <tbody>\n",
       "    <tr>\n",
       "      <th>0</th>\n",
       "      <td>False</td>\n",
       "      <td>False</td>\n",
       "      <td>False</td>\n",
       "      <td>False</td>\n",
       "      <td>False</td>\n",
       "      <td>False</td>\n",
       "      <td>False</td>\n",
       "      <td>False</td>\n",
       "      <td>False</td>\n",
       "      <td>False</td>\n",
       "      <td>False</td>\n",
       "      <td>False</td>\n",
       "      <td>False</td>\n",
       "      <td>False</td>\n",
       "      <td>False</td>\n",
       "      <td>False</td>\n",
       "      <td>False</td>\n",
       "      <td>False</td>\n",
       "      <td>False</td>\n",
       "    </tr>\n",
       "    <tr>\n",
       "      <th>1</th>\n",
       "      <td>False</td>\n",
       "      <td>False</td>\n",
       "      <td>False</td>\n",
       "      <td>False</td>\n",
       "      <td>False</td>\n",
       "      <td>False</td>\n",
       "      <td>False</td>\n",
       "      <td>False</td>\n",
       "      <td>False</td>\n",
       "      <td>False</td>\n",
       "      <td>False</td>\n",
       "      <td>False</td>\n",
       "      <td>False</td>\n",
       "      <td>False</td>\n",
       "      <td>False</td>\n",
       "      <td>False</td>\n",
       "      <td>False</td>\n",
       "      <td>False</td>\n",
       "      <td>False</td>\n",
       "    </tr>\n",
       "    <tr>\n",
       "      <th>2</th>\n",
       "      <td>False</td>\n",
       "      <td>False</td>\n",
       "      <td>False</td>\n",
       "      <td>False</td>\n",
       "      <td>False</td>\n",
       "      <td>False</td>\n",
       "      <td>False</td>\n",
       "      <td>False</td>\n",
       "      <td>False</td>\n",
       "      <td>False</td>\n",
       "      <td>False</td>\n",
       "      <td>False</td>\n",
       "      <td>False</td>\n",
       "      <td>False</td>\n",
       "      <td>False</td>\n",
       "      <td>False</td>\n",
       "      <td>False</td>\n",
       "      <td>False</td>\n",
       "      <td>False</td>\n",
       "    </tr>\n",
       "    <tr>\n",
       "      <th>3</th>\n",
       "      <td>False</td>\n",
       "      <td>False</td>\n",
       "      <td>False</td>\n",
       "      <td>False</td>\n",
       "      <td>False</td>\n",
       "      <td>False</td>\n",
       "      <td>False</td>\n",
       "      <td>False</td>\n",
       "      <td>False</td>\n",
       "      <td>False</td>\n",
       "      <td>False</td>\n",
       "      <td>False</td>\n",
       "      <td>False</td>\n",
       "      <td>False</td>\n",
       "      <td>False</td>\n",
       "      <td>False</td>\n",
       "      <td>False</td>\n",
       "      <td>False</td>\n",
       "      <td>False</td>\n",
       "    </tr>\n",
       "    <tr>\n",
       "      <th>4</th>\n",
       "      <td>False</td>\n",
       "      <td>False</td>\n",
       "      <td>False</td>\n",
       "      <td>False</td>\n",
       "      <td>False</td>\n",
       "      <td>False</td>\n",
       "      <td>False</td>\n",
       "      <td>False</td>\n",
       "      <td>False</td>\n",
       "      <td>False</td>\n",
       "      <td>False</td>\n",
       "      <td>False</td>\n",
       "      <td>False</td>\n",
       "      <td>False</td>\n",
       "      <td>False</td>\n",
       "      <td>False</td>\n",
       "      <td>False</td>\n",
       "      <td>False</td>\n",
       "      <td>False</td>\n",
       "    </tr>\n",
       "    <tr>\n",
       "      <th>...</th>\n",
       "      <td>...</td>\n",
       "      <td>...</td>\n",
       "      <td>...</td>\n",
       "      <td>...</td>\n",
       "      <td>...</td>\n",
       "      <td>...</td>\n",
       "      <td>...</td>\n",
       "      <td>...</td>\n",
       "      <td>...</td>\n",
       "      <td>...</td>\n",
       "      <td>...</td>\n",
       "      <td>...</td>\n",
       "      <td>...</td>\n",
       "      <td>...</td>\n",
       "      <td>...</td>\n",
       "      <td>...</td>\n",
       "      <td>...</td>\n",
       "      <td>...</td>\n",
       "      <td>...</td>\n",
       "    </tr>\n",
       "    <tr>\n",
       "      <th>1394</th>\n",
       "      <td>False</td>\n",
       "      <td>False</td>\n",
       "      <td>False</td>\n",
       "      <td>False</td>\n",
       "      <td>False</td>\n",
       "      <td>False</td>\n",
       "      <td>False</td>\n",
       "      <td>False</td>\n",
       "      <td>False</td>\n",
       "      <td>False</td>\n",
       "      <td>False</td>\n",
       "      <td>False</td>\n",
       "      <td>False</td>\n",
       "      <td>False</td>\n",
       "      <td>False</td>\n",
       "      <td>False</td>\n",
       "      <td>False</td>\n",
       "      <td>False</td>\n",
       "      <td>False</td>\n",
       "    </tr>\n",
       "    <tr>\n",
       "      <th>1395</th>\n",
       "      <td>False</td>\n",
       "      <td>False</td>\n",
       "      <td>False</td>\n",
       "      <td>False</td>\n",
       "      <td>False</td>\n",
       "      <td>False</td>\n",
       "      <td>False</td>\n",
       "      <td>False</td>\n",
       "      <td>False</td>\n",
       "      <td>False</td>\n",
       "      <td>False</td>\n",
       "      <td>False</td>\n",
       "      <td>False</td>\n",
       "      <td>False</td>\n",
       "      <td>False</td>\n",
       "      <td>False</td>\n",
       "      <td>False</td>\n",
       "      <td>False</td>\n",
       "      <td>False</td>\n",
       "    </tr>\n",
       "    <tr>\n",
       "      <th>1396</th>\n",
       "      <td>False</td>\n",
       "      <td>False</td>\n",
       "      <td>False</td>\n",
       "      <td>False</td>\n",
       "      <td>False</td>\n",
       "      <td>False</td>\n",
       "      <td>False</td>\n",
       "      <td>False</td>\n",
       "      <td>False</td>\n",
       "      <td>False</td>\n",
       "      <td>False</td>\n",
       "      <td>False</td>\n",
       "      <td>False</td>\n",
       "      <td>False</td>\n",
       "      <td>False</td>\n",
       "      <td>False</td>\n",
       "      <td>False</td>\n",
       "      <td>False</td>\n",
       "      <td>False</td>\n",
       "    </tr>\n",
       "    <tr>\n",
       "      <th>1397</th>\n",
       "      <td>False</td>\n",
       "      <td>False</td>\n",
       "      <td>False</td>\n",
       "      <td>False</td>\n",
       "      <td>False</td>\n",
       "      <td>False</td>\n",
       "      <td>False</td>\n",
       "      <td>False</td>\n",
       "      <td>False</td>\n",
       "      <td>False</td>\n",
       "      <td>False</td>\n",
       "      <td>False</td>\n",
       "      <td>False</td>\n",
       "      <td>False</td>\n",
       "      <td>False</td>\n",
       "      <td>False</td>\n",
       "      <td>False</td>\n",
       "      <td>False</td>\n",
       "      <td>False</td>\n",
       "    </tr>\n",
       "    <tr>\n",
       "      <th>1398</th>\n",
       "      <td>False</td>\n",
       "      <td>False</td>\n",
       "      <td>False</td>\n",
       "      <td>False</td>\n",
       "      <td>False</td>\n",
       "      <td>False</td>\n",
       "      <td>False</td>\n",
       "      <td>False</td>\n",
       "      <td>False</td>\n",
       "      <td>False</td>\n",
       "      <td>False</td>\n",
       "      <td>False</td>\n",
       "      <td>False</td>\n",
       "      <td>False</td>\n",
       "      <td>False</td>\n",
       "      <td>False</td>\n",
       "      <td>False</td>\n",
       "      <td>False</td>\n",
       "      <td>False</td>\n",
       "    </tr>\n",
       "  </tbody>\n",
       "</table>\n",
       "<p>1399 rows × 19 columns</p>\n",
       "</div>"
      ],
      "text/plain": [
       "      Citympg  price  Horsepower  Classification  Driveline  EngineType  \\\n",
       "0       False  False       False           False      False       False   \n",
       "1       False  False       False           False      False       False   \n",
       "2       False  False       False           False      False       False   \n",
       "3       False  False       False           False      False       False   \n",
       "4       False  False       False           False      False       False   \n",
       "...       ...    ...         ...             ...        ...         ...   \n",
       "1394    False  False       False           False      False       False   \n",
       "1395    False  False       False           False      False       False   \n",
       "1396    False  False       False           False      False       False   \n",
       "1397    False  False       False           False      False       False   \n",
       "1398    False  False       False           False      False       False   \n",
       "\n",
       "      FuelType  Height  Highwaympg  Hybrid     ID  Length   Make  ModelYear  \\\n",
       "0        False   False       False   False  False   False  False      False   \n",
       "1        False   False       False   False  False   False  False      False   \n",
       "2        False   False       False   False  False   False  False      False   \n",
       "3        False   False       False   False  False   False  False      False   \n",
       "4        False   False       False   False  False   False  False      False   \n",
       "...        ...     ...         ...     ...    ...     ...    ...        ...   \n",
       "1394     False   False       False   False  False   False  False      False   \n",
       "1395     False   False       False   False  False   False  False      False   \n",
       "1396     False   False       False   False  False   False  False      False   \n",
       "1397     False   False       False   False  False   False  False      False   \n",
       "1398     False   False       False   False  False   False  False      False   \n",
       "\n",
       "      NumberofForwardGears  Torque  Transmission  Width   Year  \n",
       "0                    False   False         False  False  False  \n",
       "1                    False   False         False  False  False  \n",
       "2                    False   False         False  False  False  \n",
       "3                    False   False         False  False  False  \n",
       "4                    False   False         False  False  False  \n",
       "...                    ...     ...           ...    ...    ...  \n",
       "1394                 False   False         False  False  False  \n",
       "1395                 False   False         False  False  False  \n",
       "1396                 False   False         False  False  False  \n",
       "1397                 False   False         False  False  False  \n",
       "1398                 False   False         False  False  False  \n",
       "\n",
       "[1399 rows x 19 columns]"
      ]
     },
     "execution_count": 3,
     "metadata": {},
     "output_type": "execute_result"
    }
   ],
   "source": [
    "data.isnull()"
   ]
  },
  {
   "cell_type": "markdown",
   "metadata": {},
   "source": [
    "<h2 style='color:green' align='center'>Data cleaning</h2>"
   ]
  },
  {
   "cell_type": "code",
   "execution_count": 4,
   "metadata": {},
   "outputs": [
    {
     "data": {
      "text/plain": [
       "Citympg                  0\n",
       "price                    0\n",
       "Horsepower               0\n",
       "Classification           0\n",
       "Driveline                0\n",
       "EngineType               0\n",
       "FuelType                 0\n",
       "Height                   0\n",
       "Highwaympg               0\n",
       "Hybrid                   0\n",
       "ID                       0\n",
       "Length                   0\n",
       "Make                     0\n",
       "ModelYear                0\n",
       "NumberofForwardGears     0\n",
       "Torque                   0\n",
       "Transmission             0\n",
       "Width                   16\n",
       "Year                     0\n",
       "dtype: int64"
      ]
     },
     "execution_count": 4,
     "metadata": {},
     "output_type": "execute_result"
    }
   ],
   "source": [
    "data.isnull().sum()"
   ]
  },
  {
   "cell_type": "code",
   "execution_count": 5,
   "metadata": {},
   "outputs": [
    {
     "data": {
      "text/plain": [
       "16"
      ]
     },
     "execution_count": 5,
     "metadata": {},
     "output_type": "execute_result"
    }
   ],
   "source": [
    "data['Width'].isnull().sum()"
   ]
  },
  {
   "cell_type": "code",
   "execution_count": 6,
   "metadata": {},
   "outputs": [],
   "source": [
    "data['Width'] = data['Width'].fillna(data['Width'].median())"
   ]
  },
  {
   "cell_type": "code",
   "execution_count": 7,
   "metadata": {},
   "outputs": [
    {
     "data": {
      "text/plain": [
       "0"
      ]
     },
     "execution_count": 7,
     "metadata": {},
     "output_type": "execute_result"
    }
   ],
   "source": [
    "\n",
    "data['Width'].isnull().sum()"
   ]
  },
  {
   "cell_type": "code",
   "execution_count": 7,
   "metadata": {},
   "outputs": [
    {
     "data": {
      "text/html": [
       "<div>\n",
       "<style scoped>\n",
       "    .dataframe tbody tr th:only-of-type {\n",
       "        vertical-align: middle;\n",
       "    }\n",
       "\n",
       "    .dataframe tbody tr th {\n",
       "        vertical-align: top;\n",
       "    }\n",
       "\n",
       "    .dataframe thead th {\n",
       "        text-align: right;\n",
       "    }\n",
       "</style>\n",
       "<table border=\"1\" class=\"dataframe\">\n",
       "  <thead>\n",
       "    <tr style=\"text-align: right;\">\n",
       "      <th></th>\n",
       "      <th>Citympg</th>\n",
       "      <th>price</th>\n",
       "      <th>Horsepower</th>\n",
       "      <th>Highwaympg</th>\n",
       "      <th>Make</th>\n",
       "    </tr>\n",
       "  </thead>\n",
       "  <tbody>\n",
       "    <tr>\n",
       "      <th>0</th>\n",
       "      <td>18</td>\n",
       "      <td>1000</td>\n",
       "      <td>250</td>\n",
       "      <td>25</td>\n",
       "      <td>Audi</td>\n",
       "    </tr>\n",
       "    <tr>\n",
       "      <th>1</th>\n",
       "      <td>22</td>\n",
       "      <td>2000</td>\n",
       "      <td>200</td>\n",
       "      <td>28</td>\n",
       "      <td>Audi</td>\n",
       "    </tr>\n",
       "    <tr>\n",
       "      <th>2</th>\n",
       "      <td>21</td>\n",
       "      <td>3000</td>\n",
       "      <td>200</td>\n",
       "      <td>30</td>\n",
       "      <td>Audi</td>\n",
       "    </tr>\n",
       "    <tr>\n",
       "      <th>3</th>\n",
       "      <td>21</td>\n",
       "      <td>4000</td>\n",
       "      <td>200</td>\n",
       "      <td>28</td>\n",
       "      <td>Audi</td>\n",
       "    </tr>\n",
       "    <tr>\n",
       "      <th>4</th>\n",
       "      <td>21</td>\n",
       "      <td>5000</td>\n",
       "      <td>200</td>\n",
       "      <td>28</td>\n",
       "      <td>Audi</td>\n",
       "    </tr>\n",
       "    <tr>\n",
       "      <th>...</th>\n",
       "      <td>...</td>\n",
       "      <td>...</td>\n",
       "      <td>...</td>\n",
       "      <td>...</td>\n",
       "      <td>...</td>\n",
       "    </tr>\n",
       "    <tr>\n",
       "      <th>1394</th>\n",
       "      <td>14</td>\n",
       "      <td>1395000</td>\n",
       "      <td>403</td>\n",
       "      <td>18</td>\n",
       "      <td>Cadillac</td>\n",
       "    </tr>\n",
       "    <tr>\n",
       "      <th>1395</th>\n",
       "      <td>16</td>\n",
       "      <td>1396000</td>\n",
       "      <td>270</td>\n",
       "      <td>26</td>\n",
       "      <td>Cadillac</td>\n",
       "    </tr>\n",
       "    <tr>\n",
       "      <th>1396</th>\n",
       "      <td>18</td>\n",
       "      <td>1397000</td>\n",
       "      <td>270</td>\n",
       "      <td>27</td>\n",
       "      <td>Cadillac</td>\n",
       "    </tr>\n",
       "    <tr>\n",
       "      <th>1397</th>\n",
       "      <td>18</td>\n",
       "      <td>1398000</td>\n",
       "      <td>270</td>\n",
       "      <td>27</td>\n",
       "      <td>Cadillac</td>\n",
       "    </tr>\n",
       "    <tr>\n",
       "      <th>1398</th>\n",
       "      <td>18</td>\n",
       "      <td>1398000</td>\n",
       "      <td>270</td>\n",
       "      <td>27</td>\n",
       "      <td>Cadillac</td>\n",
       "    </tr>\n",
       "  </tbody>\n",
       "</table>\n",
       "<p>1399 rows × 5 columns</p>\n",
       "</div>"
      ],
      "text/plain": [
       "      Citympg    price  Horsepower  Highwaympg      Make\n",
       "0          18     1000         250          25      Audi\n",
       "1          22     2000         200          28      Audi\n",
       "2          21     3000         200          30      Audi\n",
       "3          21     4000         200          28      Audi\n",
       "4          21     5000         200          28      Audi\n",
       "...       ...      ...         ...         ...       ...\n",
       "1394       14  1395000         403          18  Cadillac\n",
       "1395       16  1396000         270          26  Cadillac\n",
       "1396       18  1397000         270          27  Cadillac\n",
       "1397       18  1398000         270          27  Cadillac\n",
       "1398       18  1398000         270          27  Cadillac\n",
       "\n",
       "[1399 rows x 5 columns]"
      ]
     },
     "execution_count": 7,
     "metadata": {},
     "output_type": "execute_result"
    }
   ],
   "source": [
    "df= data.drop(['Classification','Driveline','EngineType','FuelType','Height','Hybrid','ID','Length','ModelYear','NumberofForwardGears','Torque','Transmission','Width','Year'],axis='columns')\n",
    "df"
   ]
  },
  {
   "cell_type": "code",
   "execution_count": 8,
   "metadata": {},
   "outputs": [
    {
     "data": {
      "text/html": [
       "<div>\n",
       "<style scoped>\n",
       "    .dataframe tbody tr th:only-of-type {\n",
       "        vertical-align: middle;\n",
       "    }\n",
       "\n",
       "    .dataframe tbody tr th {\n",
       "        vertical-align: top;\n",
       "    }\n",
       "\n",
       "    .dataframe thead th {\n",
       "        text-align: right;\n",
       "    }\n",
       "</style>\n",
       "<table border=\"1\" class=\"dataframe\">\n",
       "  <thead>\n",
       "    <tr style=\"text-align: right;\">\n",
       "      <th></th>\n",
       "      <th>Citympg</th>\n",
       "      <th>price</th>\n",
       "      <th>Horsepower</th>\n",
       "      <th>Highwaympg</th>\n",
       "    </tr>\n",
       "  </thead>\n",
       "  <tbody>\n",
       "    <tr>\n",
       "      <th>0</th>\n",
       "      <td>18</td>\n",
       "      <td>1000</td>\n",
       "      <td>250</td>\n",
       "      <td>25</td>\n",
       "    </tr>\n",
       "    <tr>\n",
       "      <th>1</th>\n",
       "      <td>22</td>\n",
       "      <td>2000</td>\n",
       "      <td>200</td>\n",
       "      <td>28</td>\n",
       "    </tr>\n",
       "    <tr>\n",
       "      <th>2</th>\n",
       "      <td>21</td>\n",
       "      <td>3000</td>\n",
       "      <td>200</td>\n",
       "      <td>30</td>\n",
       "    </tr>\n",
       "    <tr>\n",
       "      <th>3</th>\n",
       "      <td>21</td>\n",
       "      <td>4000</td>\n",
       "      <td>200</td>\n",
       "      <td>28</td>\n",
       "    </tr>\n",
       "    <tr>\n",
       "      <th>4</th>\n",
       "      <td>21</td>\n",
       "      <td>5000</td>\n",
       "      <td>200</td>\n",
       "      <td>28</td>\n",
       "    </tr>\n",
       "    <tr>\n",
       "      <th>...</th>\n",
       "      <td>...</td>\n",
       "      <td>...</td>\n",
       "      <td>...</td>\n",
       "      <td>...</td>\n",
       "    </tr>\n",
       "    <tr>\n",
       "      <th>1394</th>\n",
       "      <td>14</td>\n",
       "      <td>1395000</td>\n",
       "      <td>403</td>\n",
       "      <td>18</td>\n",
       "    </tr>\n",
       "    <tr>\n",
       "      <th>1395</th>\n",
       "      <td>16</td>\n",
       "      <td>1396000</td>\n",
       "      <td>270</td>\n",
       "      <td>26</td>\n",
       "    </tr>\n",
       "    <tr>\n",
       "      <th>1396</th>\n",
       "      <td>18</td>\n",
       "      <td>1397000</td>\n",
       "      <td>270</td>\n",
       "      <td>27</td>\n",
       "    </tr>\n",
       "    <tr>\n",
       "      <th>1397</th>\n",
       "      <td>18</td>\n",
       "      <td>1398000</td>\n",
       "      <td>270</td>\n",
       "      <td>27</td>\n",
       "    </tr>\n",
       "    <tr>\n",
       "      <th>1398</th>\n",
       "      <td>18</td>\n",
       "      <td>1398000</td>\n",
       "      <td>270</td>\n",
       "      <td>27</td>\n",
       "    </tr>\n",
       "  </tbody>\n",
       "</table>\n",
       "<p>1399 rows × 4 columns</p>\n",
       "</div>"
      ],
      "text/plain": [
       "      Citympg    price  Horsepower  Highwaympg\n",
       "0          18     1000         250          25\n",
       "1          22     2000         200          28\n",
       "2          21     3000         200          30\n",
       "3          21     4000         200          28\n",
       "4          21     5000         200          28\n",
       "...       ...      ...         ...         ...\n",
       "1394       14  1395000         403          18\n",
       "1395       16  1396000         270          26\n",
       "1396       18  1397000         270          27\n",
       "1397       18  1398000         270          27\n",
       "1398       18  1398000         270          27\n",
       "\n",
       "[1399 rows x 4 columns]"
      ]
     },
     "execution_count": 8,
     "metadata": {},
     "output_type": "execute_result"
    }
   ],
   "source": [
    "X=df.drop('Make',axis='columns')\n",
    "X"
   ]
  },
  {
   "cell_type": "code",
   "execution_count": 9,
   "metadata": {},
   "outputs": [
    {
     "data": {
      "text/plain": [
       "0           Audi\n",
       "1           Audi\n",
       "2           Audi\n",
       "3           Audi\n",
       "4           Audi\n",
       "          ...   \n",
       "1394    Cadillac\n",
       "1395    Cadillac\n",
       "1396    Cadillac\n",
       "1397    Cadillac\n",
       "1398    Cadillac\n",
       "Name: Make, Length: 1399, dtype: object"
      ]
     },
     "execution_count": 9,
     "metadata": {},
     "output_type": "execute_result"
    }
   ],
   "source": [
    "y=df.Make\n",
    "y"
   ]
  },
  {
   "cell_type": "code",
   "execution_count": 10,
   "metadata": {},
   "outputs": [],
   "source": [
    "l=['AMG',\n",
    " 'Acura',\n",
    " 'Audi',\n",
    " 'BMW',\n",
    " 'Bentley',\n",
    " 'Cadillac',\n",
    " 'Chevrolet',\n",
    " 'Ford',\n",
    " 'Honda',\n",
    " 'Hyundai',\n",
    " 'Infiniti',\n",
    " 'Kia',\n",
    " 'Lamborghini',\n",
    " 'Lexus',\n",
    " 'Maybach',\n",
    " 'Mazda',\n",
    " 'Mercedes',\n",
    " 'Mitsubishi',\n",
    " 'Nissan',\n",
    " 'T',\n",
    " 'Toyota',\n",
    " 'Volkswagen',\n",
    " 'Volvo']"
   ]
  },
  {
   "cell_type": "code",
   "execution_count": 12,
   "metadata": {},
   "outputs": [],
   "source": [
    "from sklearn.model_selection import train_test_split\n",
    "X_train, X_test, y_train, y_test = train_test_split(X,y,test_size=0.3)"
   ]
  },
  {
   "cell_type": "markdown",
   "metadata": {},
   "source": [
    "<h2 style=\"color:DodgerBlue\" align= 'center'> Logistic Regression </h2>"
   ]
  },
  {
   "cell_type": "code",
   "execution_count": 13,
   "metadata": {},
   "outputs": [],
   "source": [
    "from sklearn.linear_model import LogisticRegression\n",
    "l_model = LogisticRegression()"
   ]
  },
  {
   "cell_type": "code",
   "execution_count": 14,
   "metadata": {},
   "outputs": [
    {
     "name": "stderr",
     "output_type": "stream",
     "text": [
      "C:\\Users\\AKASH\\anaconda3\\lib\\site-packages\\sklearn\\linear_model\\_logistic.py:762: ConvergenceWarning: lbfgs failed to converge (status=1):\n",
      "STOP: TOTAL NO. of ITERATIONS REACHED LIMIT.\n",
      "\n",
      "Increase the number of iterations (max_iter) or scale the data as shown in:\n",
      "    https://scikit-learn.org/stable/modules/preprocessing.html\n",
      "Please also refer to the documentation for alternative solver options:\n",
      "    https://scikit-learn.org/stable/modules/linear_model.html#logistic-regression\n",
      "  n_iter_i = _check_optimize_result(\n"
     ]
    },
    {
     "data": {
      "text/plain": [
       "LogisticRegression()"
      ]
     },
     "execution_count": 14,
     "metadata": {},
     "output_type": "execute_result"
    }
   ],
   "source": [
    "l_model.fit(X_train,y_train)"
   ]
  },
  {
   "cell_type": "code",
   "execution_count": 15,
   "metadata": {},
   "outputs": [
    {
     "data": {
      "text/plain": [
       "979"
      ]
     },
     "execution_count": 15,
     "metadata": {},
     "output_type": "execute_result"
    }
   ],
   "source": [
    "len(X_train)"
   ]
  },
  {
   "cell_type": "code",
   "execution_count": 16,
   "metadata": {},
   "outputs": [
    {
     "data": {
      "text/plain": [
       "array(['Chevrolet', 'Hyundai', 'Hyundai', 'Chevrolet', 'Chevrolet',\n",
       "       'Chevrolet', 'Ford', 'Hyundai', 'Chevrolet', 'Chevrolet',\n",
       "       'Hyundai', 'Chevrolet', 'Chevrolet', 'Hyundai', 'Chevrolet',\n",
       "       'Chevrolet', 'Chevrolet', 'Ford', 'Chevrolet', 'Chevrolet',\n",
       "       'Hyundai', 'Chevrolet', 'Ford', 'Chevrolet', 'Chevrolet',\n",
       "       'Hyundai', 'Chevrolet', 'Chevrolet', 'Chevrolet', 'Chevrolet',\n",
       "       'Chevrolet', 'Chevrolet', 'Hyundai', 'Chevrolet', 'Chevrolet',\n",
       "       'Chevrolet', 'Ford', 'Chevrolet', 'Chevrolet', 'Hyundai',\n",
       "       'Chevrolet', 'Chevrolet', 'Chevrolet', 'Chevrolet', 'Chevrolet',\n",
       "       'Hyundai', 'Hyundai', 'Chevrolet', 'Chevrolet', 'Chevrolet',\n",
       "       'Chevrolet', 'Chevrolet', 'Hyundai', 'Chevrolet', 'Chevrolet',\n",
       "       'Chevrolet', 'Chevrolet', 'Hyundai', 'Chevrolet', 'Hyundai',\n",
       "       'Chevrolet', 'Chevrolet', 'Chevrolet', 'Hyundai', 'Hyundai',\n",
       "       'Hyundai', 'Hyundai', 'Chevrolet', 'Chevrolet', 'Hyundai',\n",
       "       'Chevrolet', 'Chevrolet', 'Chevrolet', 'Hyundai', 'Chevrolet',\n",
       "       'Chevrolet', 'Chevrolet', 'Hyundai', 'Ford', 'Chevrolet',\n",
       "       'Chevrolet', 'Chevrolet', 'Chevrolet', 'Chevrolet', 'Chevrolet',\n",
       "       'Hyundai', 'Chevrolet', 'Ford', 'Hyundai', 'Chevrolet',\n",
       "       'Chevrolet', 'Chevrolet', 'Hyundai', 'Chevrolet', 'Hyundai',\n",
       "       'Ford', 'Chevrolet', 'Hyundai', 'Hyundai', 'Chevrolet', 'Hyundai',\n",
       "       'Chevrolet', 'Chevrolet', 'Chevrolet', 'Chevrolet', 'Chevrolet',\n",
       "       'Hyundai', 'Chevrolet', 'Chevrolet', 'Chevrolet', 'Chevrolet',\n",
       "       'Hyundai', 'Chevrolet', 'Chevrolet', 'Hyundai', 'Chevrolet',\n",
       "       'Chevrolet', 'Chevrolet', 'Chevrolet', 'Chevrolet', 'Hyundai',\n",
       "       'Chevrolet', 'Ford', 'Chevrolet', 'Hyundai', 'Chevrolet',\n",
       "       'Chevrolet', 'Hyundai', 'Ford', 'Chevrolet', 'Chevrolet',\n",
       "       'Chevrolet', 'Chevrolet', 'Chevrolet', 'Hyundai', 'Ford',\n",
       "       'Chevrolet', 'Hyundai', 'Chevrolet', 'Hyundai', 'Chevrolet',\n",
       "       'Hyundai', 'Chevrolet', 'Chevrolet', 'Chevrolet', 'Chevrolet',\n",
       "       'Hyundai', 'Hyundai', 'Chevrolet', 'Hyundai', 'Hyundai',\n",
       "       'Chevrolet', 'Chevrolet', 'Hyundai', 'Hyundai', 'Chevrolet',\n",
       "       'Chevrolet', 'Chevrolet', 'Hyundai', 'Hyundai', 'Chevrolet',\n",
       "       'Chevrolet', 'Chevrolet', 'Hyundai', 'Hyundai', 'Hyundai',\n",
       "       'Chevrolet', 'Chevrolet', 'Chevrolet', 'Chevrolet', 'Chevrolet',\n",
       "       'Chevrolet', 'Chevrolet', 'Chevrolet', 'Chevrolet', 'Ford',\n",
       "       'Chevrolet', 'Chevrolet', 'Chevrolet', 'Hyundai', 'Chevrolet',\n",
       "       'Chevrolet', 'Chevrolet', 'Hyundai', 'Chevrolet', 'Chevrolet',\n",
       "       'Chevrolet', 'Chevrolet', 'Chevrolet', 'Chevrolet', 'Chevrolet',\n",
       "       'Chevrolet', 'Chevrolet', 'Chevrolet', 'Hyundai', 'Chevrolet',\n",
       "       'Ford', 'Chevrolet', 'Chevrolet', 'Chevrolet', 'Chevrolet',\n",
       "       'Hyundai', 'Hyundai', 'Ford', 'Hyundai', 'Chevrolet', 'Hyundai',\n",
       "       'Chevrolet', 'Hyundai', 'Hyundai', 'Hyundai', 'Chevrolet',\n",
       "       'Chevrolet', 'Chevrolet', 'Chevrolet', 'Chevrolet', 'Chevrolet',\n",
       "       'Chevrolet', 'Chevrolet', 'Chevrolet', 'Chevrolet', 'Chevrolet',\n",
       "       'Chevrolet', 'Chevrolet', 'Chevrolet', 'Chevrolet', 'Hyundai',\n",
       "       'Chevrolet', 'Chevrolet', 'Chevrolet', 'Ford', 'Chevrolet',\n",
       "       'Chevrolet', 'Ford', 'Chevrolet', 'Chevrolet', 'Chevrolet',\n",
       "       'Chevrolet', 'Hyundai', 'Chevrolet', 'Hyundai', 'Chevrolet',\n",
       "       'Chevrolet', 'Chevrolet', 'Hyundai', 'Hyundai', 'Hyundai',\n",
       "       'Chevrolet', 'Chevrolet', 'Hyundai', 'Hyundai', 'Chevrolet',\n",
       "       'Chevrolet', 'Chevrolet', 'Chevrolet', 'Chevrolet', 'Chevrolet',\n",
       "       'Chevrolet', 'Chevrolet', 'Hyundai', 'Ford', 'Chevrolet',\n",
       "       'Chevrolet', 'Chevrolet', 'Ford', 'Chevrolet', 'Chevrolet',\n",
       "       'Chevrolet', 'Chevrolet', 'Hyundai', 'Chevrolet', 'Chevrolet',\n",
       "       'Chevrolet', 'Chevrolet', 'Hyundai', 'Chevrolet', 'Hyundai',\n",
       "       'Chevrolet', 'Hyundai', 'Hyundai', 'Chevrolet', 'Chevrolet',\n",
       "       'Chevrolet', 'Chevrolet', 'Hyundai', 'Chevrolet', 'Hyundai',\n",
       "       'Chevrolet', 'Hyundai', 'Chevrolet', 'Chevrolet', 'Chevrolet',\n",
       "       'Chevrolet', 'Hyundai', 'Ford', 'Hyundai', 'Chevrolet',\n",
       "       'Chevrolet', 'Ford', 'Chevrolet', 'Ford', 'Chevrolet', 'Chevrolet',\n",
       "       'Chevrolet', 'Chevrolet', 'Hyundai', 'Chevrolet', 'Chevrolet',\n",
       "       'Hyundai', 'Ford', 'Chevrolet', 'Ford', 'Chevrolet', 'Hyundai',\n",
       "       'Hyundai', 'Chevrolet', 'Chevrolet', 'Hyundai', 'Hyundai',\n",
       "       'Chevrolet', 'Chevrolet', 'Chevrolet', 'Chevrolet', 'Chevrolet',\n",
       "       'Chevrolet', 'Ford', 'Chevrolet', 'Chevrolet', 'Chevrolet',\n",
       "       'Chevrolet', 'Chevrolet', 'Chevrolet', 'Hyundai', 'Hyundai',\n",
       "       'Hyundai', 'Chevrolet', 'Chevrolet', 'Chevrolet', 'Chevrolet',\n",
       "       'Chevrolet', 'Chevrolet', 'Chevrolet', 'Chevrolet', 'Hyundai',\n",
       "       'Chevrolet', 'Hyundai', 'Chevrolet', 'Chevrolet', 'Hyundai',\n",
       "       'Chevrolet', 'Chevrolet', 'Hyundai', 'Chevrolet', 'Hyundai',\n",
       "       'Chevrolet', 'Chevrolet', 'Chevrolet', 'Chevrolet', 'Chevrolet',\n",
       "       'Chevrolet', 'Chevrolet', 'Hyundai', 'Chevrolet', 'Chevrolet',\n",
       "       'Ford', 'Hyundai', 'Chevrolet', 'Hyundai', 'Chevrolet',\n",
       "       'Chevrolet', 'Chevrolet', 'Chevrolet', 'Chevrolet', 'Chevrolet',\n",
       "       'Chevrolet', 'Chevrolet', 'Hyundai', 'Chevrolet', 'Hyundai',\n",
       "       'Hyundai', 'Chevrolet', 'Hyundai', 'Chevrolet', 'Hyundai',\n",
       "       'Chevrolet', 'Chevrolet', 'Chevrolet', 'Chevrolet', 'Chevrolet',\n",
       "       'Chevrolet', 'Hyundai', 'Hyundai', 'Chevrolet', 'Ford', 'Hyundai',\n",
       "       'Chevrolet', 'Chevrolet', 'Chevrolet', 'Hyundai', 'Chevrolet',\n",
       "       'Chevrolet', 'Chevrolet', 'Hyundai', 'Hyundai', 'Hyundai',\n",
       "       'Chevrolet', 'Hyundai', 'Ford', 'Hyundai', 'Chevrolet', 'Hyundai',\n",
       "       'Chevrolet', 'Hyundai', 'Hyundai', 'Hyundai', 'Chevrolet',\n",
       "       'Hyundai', 'Chevrolet', 'Chevrolet', 'Chevrolet'], dtype=object)"
      ]
     },
     "execution_count": 16,
     "metadata": {},
     "output_type": "execute_result"
    }
   ],
   "source": [
    "l_model.predict(X_test)"
   ]
  },
  {
   "cell_type": "code",
   "execution_count": 17,
   "metadata": {},
   "outputs": [
    {
     "data": {
      "text/plain": [
       "1302     Chevrolet\n",
       "741            Kia\n",
       "746            Kia\n",
       "1369     Chevrolet\n",
       "203           Ford\n",
       "           ...    \n",
       "51         Bentley\n",
       "613        Hyundai\n",
       "717           Ford\n",
       "286     Volkswagen\n",
       "127           Audi\n",
       "Name: Make, Length: 420, dtype: object"
      ]
     },
     "execution_count": 17,
     "metadata": {},
     "output_type": "execute_result"
    }
   ],
   "source": [
    "# len(y_test)\n",
    "y_test"
   ]
  },
  {
   "cell_type": "code",
   "execution_count": 18,
   "metadata": {},
   "outputs": [
    {
     "data": {
      "text/plain": [
       "0.21428571428571427"
      ]
     },
     "execution_count": 18,
     "metadata": {},
     "output_type": "execute_result"
    }
   ],
   "source": [
    "log_score =l_model.score(X_test,y_test)\n",
    "log_score"
   ]
  },
  {
   "cell_type": "markdown",
   "metadata": {},
   "source": [
    "**Cunfusion Matrix of Logistic Regression**"
   ]
  },
  {
   "cell_type": "code",
   "execution_count": 19,
   "metadata": {},
   "outputs": [
    {
     "name": "stdout",
     "output_type": "stream",
     "text": [
      "[[ 0  0  0  0  0  0  0  3  0  0  0  0  0  0  0  0  0  0  0  0  0  0  0  0\n",
      "   0]\n",
      " [ 0  0  0  0  0  0  0  2  0  0  0  0  0  0  0  0  0  0  0  0  0  0  0  0\n",
      "   0]\n",
      " [ 0  0  0  0  0  0  0 22  0  0  0  0  0  0  0  0  0  0  0  0  0  0  0  0\n",
      "   0]\n",
      " [ 0  0  0  0  0  0  0  1  1  0  6  0  0  0  0  0  0  0  0  0  0  0  0  0\n",
      "   0]\n",
      " [ 0  0  0  0  0  0  0  0  2  0  6  0  0  0  0  0  0  0  0  0  0  0  0  0\n",
      "   0]\n",
      " [ 0  0  0  0  0  0  0  5  0  0  0  0  0  0  0  0  0  0  0  0  0  0  0  0\n",
      "   0]\n",
      " [ 0  0  0  0  0  0  0  1  0  0  4  0  0  0  0  0  0  0  0  0  0  0  0  0\n",
      "   0]\n",
      " [ 0  0  0  0  0  0  0 53  4  0  1  0  0  0  0  0  0  0  0  0  0  0  0  0\n",
      "   0]\n",
      " [ 0  0  0  0  0  0  0 38  3  0  5  0  0  0  0  0  0  0  0  0  0  0  0  0\n",
      "   0]\n",
      " [ 0  0  0  0  0  0  0 16  0  0  9  0  0  0  0  0  0  0  0  0  0  0  0  0\n",
      "   0]\n",
      " [ 0  0  0  0  0  0  0 17  6  0 34  0  0  0  0  0  0  0  0  0  0  0  0  0\n",
      "   0]\n",
      " [ 0  0  0  0  0  0  0  0  0  0  3  0  0  0  0  0  0  0  0  0  0  0  0  0\n",
      "   0]\n",
      " [ 0  0  0  0  0  0  0 12  5  0 12  0  0  0  0  0  0  0  0  0  0  0  0  0\n",
      "   0]\n",
      " [ 0  0  0  0  0  0  0  1  0  0  0  0  0  0  0  0  0  0  0  0  0  0  0  0\n",
      "   0]\n",
      " [ 0  0  0  0  0  0  0  3  0  0  0  0  0  0  0  0  0  0  0  0  0  0  0  0\n",
      "   0]\n",
      " [ 0  0  0  0  0  0  0  5  0  0  0  0  0  0  0  0  0  0  0  0  0  0  0  0\n",
      "   0]\n",
      " [ 0  0  0  0  0  0  0  0  0  0  7  0  0  0  0  0  0  0  0  0  0  0  0  0\n",
      "   0]\n",
      " [ 0  0  0  0  0  0  0  9  0  0  4  0  0  0  0  0  0  0  0  0  0  0  0  0\n",
      "   0]\n",
      " [ 0  0  0  0  0  0  0  2  0  0  0  0  0  0  0  0  0  0  0  0  0  0  0  0\n",
      "   0]\n",
      " [ 0  0  0  0  0  0  0  0  0  0 15  0  0  0  0  0  0  0  0  0  0  0  0  0\n",
      "   0]\n",
      " [ 0  0  0  0  0  0  0 12  4  0  0  0  0  0  0  0  0  0  0  0  0  0  0  0\n",
      "   0]\n",
      " [ 0  0  0  0  0  0  0  3  0  0  0  0  0  0  0  0  0  0  0  0  0  0  0  0\n",
      "   0]\n",
      " [ 0  0  0  0  0  0  0 37  0  0  4  0  0  0  0  0  0  0  0  0  0  0  0  0\n",
      "   0]\n",
      " [ 0  0  0  0  0  0  0 16  1  0  4  0  0  0  0  0  0  0  0  0  0  0  0  0\n",
      "   0]\n",
      " [ 0  0  0  0  0  0  0 22  0  0  0  0  0  0  0  0  0  0  0  0  0  0  0  0\n",
      "   0]]\n"
     ]
    }
   ],
   "source": [
    "from sklearn.metrics import confusion_matrix\n",
    "y_pred =l_model.predict(X_test)\n",
    "logi_cm = confusion_matrix(y_test, y_pred)\n",
    "print(logi_cm)"
   ]
  },
  {
   "cell_type": "code",
   "execution_count": 20,
   "metadata": {},
   "outputs": [
    {
     "data": {
      "text/plain": [
       "Text(69.0, 0.5, 'Truth')"
      ]
     },
     "execution_count": 20,
     "metadata": {},
     "output_type": "execute_result"
    },
    {
     "data": {
      "image/png": "[encoded data removed]",
      "text/plain": [
       "<Figure size 720x504 with 2 Axes>"
      ]
     },
     "metadata": {
      "needs_background": "light"
     },
     "output_type": "display_data"
    }
   ],
   "source": [
    "#आपल्या simplicity , cm  चांगल्या प्रकारे समजण्या साठी heatmap काढू \n",
    "%matplotlib inline\n",
    "# import matplotlib.pyplot as plt\n",
    "import seaborn as sn\n",
    "plt.figure(figsize=(10,7))\n",
    "sn.heatmap(logi_cm,xticklabels=l,yticklabels=l,annot=True)\n",
    "plt.xlabel('Predicted')\n",
    "plt.ylabel('Truth')"
   ]
  },
  {
   "cell_type": "markdown",
   "metadata": {},
   "source": [
    "**Using Logistic Regression classifier predict car company name by entering city mileage, price, horsepower and highway mileage**   "
   ]
  },
  {
   "cell_type": "code",
   "execution_count": null,
   "metadata": {},
   "outputs": [],
   "source": [
    "city_M =float(input('What is the city mileage -'))\n",
    "price = float(input('What is the price -'))\n",
    "hp=int(input('Enter hp of car- '))\n",
    "highway_M=float(input('Enter highway mileage-:'))\n",
    "l_model.predict([[city_M,price,hp,highway_M]]):"
   ]
  },
  {
   "cell_type": "markdown",
   "metadata": {},
   "source": [
    "<h2 style=\"color:SlateBlue\" align='center'>Decision Tree</h2>"
   ]
  },
  {
   "cell_type": "code",
   "execution_count": 23,
   "metadata": {},
   "outputs": [],
   "source": [
    "from sklearn import tree\n",
    "dt_model = tree.DecisionTreeClassifier()"
   ]
  },
  {
   "cell_type": "code",
   "execution_count": 23,
   "metadata": {},
   "outputs": [
    {
     "data": {
      "text/plain": [
       "DecisionTreeClassifier()"
      ]
     },
     "execution_count": 23,
     "metadata": {},
     "output_type": "execute_result"
    }
   ],
   "source": [
    "dt_model.fit(X_train,y_train)"
   ]
  },
  {
   "cell_type": "code",
   "execution_count": 24,
   "metadata": {},
   "outputs": [
    {
     "data": {
      "text/plain": [
       "0.9166666666666666"
      ]
     },
     "execution_count": 24,
     "metadata": {},
     "output_type": "execute_result"
    }
   ],
   "source": [
    "dt_model.score(X_test,y_test)"
   ]
  },
  {
   "cell_type": "code",
   "execution_count": 28,
   "metadata": {},
   "outputs": [
    {
     "name": "stdout",
     "output_type": "stream",
     "text": [
      "[[ 2  0  2  0  0  0  0  2  0  0  0  0  0  0  0  0  0  1  0  0  0  0  0  0]\n",
      " [ 0  0  1  0  0  0  0  0  0  0  0  0  0  0  0  0  0  0  0  0  0  0  0  0]\n",
      " [ 0  0 26  0  0  0  0  0  0  0  0  0  0  0  0  0  0  0  0  2  0  0  0  1]\n",
      " [ 0  0  0  5  0  0  0  0  0  0  0  0  0  0  0  0  0  0  0  0  0  0  0  0]\n",
      " [ 0  0  0  0  6  0  0  0  0  0  1  0  0  0  0  0  0  0  0  0  0  0  1  0]\n",
      " [ 0  0  0  0  0  7  0  0  0  0  0  0  0  0  0  0  0  0  0  0  0  0  0  0]\n",
      " [ 0  0  0  0  0  0  5  0  0  0  0  0  0  0  0  0  0  0  0  0  0  0  0  0]\n",
      " [ 0  0  0  0  0  0  0 56  0  0  0  0  0  0  0  0  0  0  0  0  0  0  0  0]\n",
      " [ 0  0  0  0  0  0  0  0 51  0  1  0  0  0  0  0  0  0  0  0  0  0  0  0]\n",
      " [ 0  0  1  0  0  0  0  0  0 24  0  0  0  0  0  0  0  0  0  0  0  0  0  0]\n",
      " [ 0  0  0  0  0  0  0  0  2  0 48  0  0  0  0  0  0  0  1  0  0  1  0  0]\n",
      " [ 0  0  0  0  0  0  0  0  0  0  0  1  0  0  0  0  0  0  0  0  0  0  0  0]\n",
      " [ 0  0  0  0  0  0  0  0  1  0  3  0 29  0  0  0  0  0  0  0  0  0  2  0]\n",
      " [ 0  0  0  0  0  0  0  0  0  0  0  0  0  3  0  0  0  0  0  0  0  0  0  0]\n",
      " [ 0  0  0  0  0  0  0  0  0  0  0  0  0  0  2  0  0  0  0  0  0  0  0  0]\n",
      " [ 0  0  0  0  0  0  0  0  2  0  0  0  0  0  0  7  0  0  0  0  0  0  0  0]\n",
      " [ 0  0  1  0  0  0  0  0  0  0  0  0  0  0  0  0  6  0  0  0  0  1  0  0]\n",
      " [ 0  0  0  0  0  0  0  0  0  0  0  0  0  0  0  0  0  0  0  0  0  0  0  0]\n",
      " [ 0  0  0  0  0  0  0  0  0  0  0  0  0  0  0  0  0  0 13  0  0  0  0  0]\n",
      " [ 0  0  0  0  0  0  0  0  0  1  0  0  0  0  0  0  0  0  1 17  0  1  0  0]\n",
      " [ 0  0  0  0  0  0  0  0  0  0  0  0  0  0  0  0  0  0  0  0  4  0  0  0]\n",
      " [ 0  0  0  0  0  0  0  0  0  0  0  0  0  0  0  0  0  0  0  0  0 36  0  0]\n",
      " [ 0  0  2  0  0  0  0  0  0  0  2  0  0  0  0  0  0  0  0  0  0  0 19  0]\n",
      " [ 0  0  0  0  0  0  0  0  0  0  0  0  0  0  0  0  0  0  0  1  0  0  0 18]]\n"
     ]
    }
   ],
   "source": [
    "y_pred =dt_model.predict(X_test)\n",
    "deci_cm = confusion_matrix(y_test, y_pred)\n",
    "print(deci_cm)"
   ]
  },
  {
   "cell_type": "code",
   "execution_count": 29,
   "metadata": {},
   "outputs": [
    {
     "data": {
      "text/plain": [
       "Text(114.0, 0.5, 'Truth')"
      ]
     },
     "execution_count": 29,
     "metadata": {},
     "output_type": "execute_result"
    },
    {
     "data": {
      "image/png": "[encoded data removed]",
      "text/plain": [
       "<Figure size 1080x504 with 2 Axes>"
      ]
     },
     "metadata": {
      "needs_background": "light"
     },
     "output_type": "display_data"
    }
   ],
   "source": [
    "plt.figure(figsize=(15,7))\n",
    "sn.heatmap(deci_cm,xticklabels=l,yticklabels=l,annot=True)\n",
    "plt.xlabel('Predicted')\n",
    "plt.ylabel('Truth')"
   ]
  },
  {
   "cell_type": "code",
   "execution_count": 30,
   "metadata": {},
   "outputs": [
    {
     "data": {
      "text/html": [
       "<div>\n",
       "<style scoped>\n",
       "    .dataframe tbody tr th:only-of-type {\n",
       "        vertical-align: middle;\n",
       "    }\n",
       "\n",
       "    .dataframe tbody tr th {\n",
       "        vertical-align: top;\n",
       "    }\n",
       "\n",
       "    .dataframe thead th {\n",
       "        text-align: right;\n",
       "    }\n",
       "</style>\n",
       "<table border=\"1\" class=\"dataframe\">\n",
       "  <thead>\n",
       "    <tr style=\"text-align: right;\">\n",
       "      <th></th>\n",
       "      <th>Citympg</th>\n",
       "      <th>price</th>\n",
       "      <th>Horsepower</th>\n",
       "      <th>Highwaympg</th>\n",
       "    </tr>\n",
       "  </thead>\n",
       "  <tbody>\n",
       "    <tr>\n",
       "      <th>1116</th>\n",
       "      <td>17</td>\n",
       "      <td>1117000</td>\n",
       "      <td>273</td>\n",
       "      <td>24</td>\n",
       "    </tr>\n",
       "    <tr>\n",
       "      <th>899</th>\n",
       "      <td>18</td>\n",
       "      <td>900000</td>\n",
       "      <td>263</td>\n",
       "      <td>28</td>\n",
       "    </tr>\n",
       "    <tr>\n",
       "      <th>816</th>\n",
       "      <td>18</td>\n",
       "      <td>817000</td>\n",
       "      <td>304</td>\n",
       "      <td>29</td>\n",
       "    </tr>\n",
       "    <tr>\n",
       "      <th>1262</th>\n",
       "      <td>14</td>\n",
       "      <td>1263000</td>\n",
       "      <td>310</td>\n",
       "      <td>20</td>\n",
       "    </tr>\n",
       "    <tr>\n",
       "      <th>251</th>\n",
       "      <td>21</td>\n",
       "      <td>252000</td>\n",
       "      <td>211</td>\n",
       "      <td>29</td>\n",
       "    </tr>\n",
       "    <tr>\n",
       "      <th>...</th>\n",
       "      <td>...</td>\n",
       "      <td>...</td>\n",
       "      <td>...</td>\n",
       "      <td>...</td>\n",
       "    </tr>\n",
       "    <tr>\n",
       "      <th>789</th>\n",
       "      <td>15</td>\n",
       "      <td>790000</td>\n",
       "      <td>550</td>\n",
       "      <td>23</td>\n",
       "    </tr>\n",
       "    <tr>\n",
       "      <th>1101</th>\n",
       "      <td>21</td>\n",
       "      <td>1102000</td>\n",
       "      <td>170</td>\n",
       "      <td>28</td>\n",
       "    </tr>\n",
       "    <tr>\n",
       "      <th>829</th>\n",
       "      <td>20</td>\n",
       "      <td>830000</td>\n",
       "      <td>276</td>\n",
       "      <td>26</td>\n",
       "    </tr>\n",
       "    <tr>\n",
       "      <th>720</th>\n",
       "      <td>17</td>\n",
       "      <td>721000</td>\n",
       "      <td>412</td>\n",
       "      <td>26</td>\n",
       "    </tr>\n",
       "    <tr>\n",
       "      <th>354</th>\n",
       "      <td>10</td>\n",
       "      <td>355000</td>\n",
       "      <td>631</td>\n",
       "      <td>16</td>\n",
       "    </tr>\n",
       "  </tbody>\n",
       "</table>\n",
       "<p>420 rows × 4 columns</p>\n",
       "</div>"
      ],
      "text/plain": [
       "      Citympg    price  Horsepower  Highwaympg\n",
       "1116       17  1117000         273          24\n",
       "899        18   900000         263          28\n",
       "816        18   817000         304          29\n",
       "1262       14  1263000         310          20\n",
       "251        21   252000         211          29\n",
       "...       ...      ...         ...         ...\n",
       "789        15   790000         550          23\n",
       "1101       21  1102000         170          28\n",
       "829        20   830000         276          26\n",
       "720        17   721000         412          26\n",
       "354        10   355000         631          16\n",
       "\n",
       "[420 rows x 4 columns]"
      ]
     },
     "execution_count": 30,
     "metadata": {},
     "output_type": "execute_result"
    }
   ],
   "source": [
    "X_test"
   ]
  },
  {
   "cell_type": "code",
   "execution_count": 25,
   "metadata": {},
   "outputs": [
    {
     "data": {
      "text/plain": [
       "240           Ford\n",
       "710           Ford\n",
       "303           Audi\n",
       "594            Kia\n",
       "1307           AMG\n",
       "           ...    \n",
       "668        Hyundai\n",
       "269          Honda\n",
       "41          Nissan\n",
       "1124    Volkswagen\n",
       "631            Kia\n",
       "Name: Make, Length: 420, dtype: object"
      ]
     },
     "execution_count": 25,
     "metadata": {},
     "output_type": "execute_result"
    }
   ],
   "source": [
    "y_test"
   ]
  },
  {
   "cell_type": "markdown",
   "metadata": {},
   "source": [
    "**Using Decision Tree classifier predict car company name by entering city mileage, price, horsepower and highway mileage**"
   ]
  },
  {
   "cell_type": "code",
   "execution_count": 32,
   "metadata": {},
   "outputs": [
    {
     "data": {
      "text/plain": [
       "array(['Kia'], dtype=object)"
      ]
     },
     "execution_count": 32,
     "metadata": {},
     "output_type": "execute_result"
    }
   ],
   "source": [
    "# dt_model.predict([[21,825000,175,27]])\n",
    "city_M =float(input('What is the city mileage -'))\n",
    "price = float(input('What is the price -'))\n",
    "hp=int(input('Enter hp of car- '))\n",
    "highway_M=float(input('Enter highway mileage-:'))\n",
    "dt_model.predict([[city_M,price,hp,highway_M]]):"
   ]
  },
  {
   "cell_type": "markdown",
   "metadata": {},
   "source": [
    "<h2 style='color:MediumSeaGreen' align='center'>KNeighbors</h2>"
   ]
  },
  {
   "cell_type": "code",
   "execution_count": 33,
   "metadata": {},
   "outputs": [],
   "source": [
    "from sklearn.neighbors import KNeighborsClassifier"
   ]
  },
  {
   "cell_type": "code",
   "execution_count": 34,
   "metadata": {},
   "outputs": [
    {
     "data": {
      "text/plain": [
       "KNeighborsClassifier()"
      ]
     },
     "execution_count": 34,
     "metadata": {},
     "output_type": "execute_result"
    }
   ],
   "source": [
    "knn_model=KNeighborsClassifier()\n",
    "knn_model.fit(X_train,y_train)"
   ]
  },
  {
   "cell_type": "code",
   "execution_count": 35,
   "metadata": {},
   "outputs": [
    {
     "data": {
      "text/plain": [
       "0.7476190476190476"
      ]
     },
     "execution_count": 35,
     "metadata": {},
     "output_type": "execute_result"
    }
   ],
   "source": [
    "knn_model.score(X_test,y_test)"
   ]
  },
  {
   "cell_type": "markdown",
   "metadata": {},
   "source": [
    "**Cunfusion Matrix of KNN**"
   ]
  },
  {
   "cell_type": "code",
   "execution_count": 36,
   "metadata": {},
   "outputs": [
    {
     "name": "stdout",
     "output_type": "stream",
     "text": [
      "[[ 1  0  0  0  2  0  0  1  0  0  1  0  0  0  0  0  2  0  0  0  0  0  0  0]\n",
      " [ 0  0  1  0  0  0  0  0  0  0  0  0  0  0  0  0  0  0  0  0  0  0  0  0]\n",
      " [ 0  0 13  0  0  0  0  0  4  1  0  0  3  0  0  0  0  0  0  3  1  1  1  2]\n",
      " [ 0  0  2  2  1  0  0  0  0  0  0  0  0  0  0  0  0  0  0  0  0  0  0  0]\n",
      " [ 0  0  0  4  0  0  0  1  0  0  1  1  0  0  0  0  0  1  0  0  0  0  0  0]\n",
      " [ 0  0  0  0  0  5  0  0  1  0  0  0  0  0  0  0  0  0  0  0  0  0  0  1]\n",
      " [ 0  0  0  0  0  0  5  0  0  0  0  0  0  0  0  0  0  0  0  0  0  0  0  0]\n",
      " [ 0  0  2  1  1  0  0 49  0  0  0  0  0  0  0  0  1  0  0  0  0  2  0  0]\n",
      " [ 0  0  2  0  0  0  0  0 48  0  0  0  1  0  0  0  1  0  0  0  0  0  0  0]\n",
      " [ 0  0  0  0  0  0  0  0  0 22  2  0  0  0  0  0  0  0  0  0  0  1  0  0]\n",
      " [ 0  0  0  0  1  0  1  0  0  1 47  0  1  0  0  1  0  0  0  0  0  0  0  0]\n",
      " [ 0  0  0  0  0  0  0  0  0  0  0  1  0  0  0  0  0  0  0  0  0  0  0  0]\n",
      " [ 0  0  4  0  0  0  0  1  1  0  0  0 29  0  0  0  0  0  0  0  0  0  0  0]\n",
      " [ 0  0  0  0  0  0  0  0  0  0  2  0  0  1  0  0  0  0  0  0  0  0  0  0]\n",
      " [ 0  0  0  0  0  0  0  0  0  0  0  0  0  0  1  0  0  0  0  0  0  1  0  0]\n",
      " [ 0  0  0  0  0  0  0  0  5  0  0  0  0  0  0  4  0  0  0  0  0  0  0  0]\n",
      " [ 0  0  0  1  0  0  0  5  1  0  0  1  0  0  0  0  0  0  0  0  0  0  0  0]\n",
      " [ 0  0  0  0  0  0  0  0  0  0  0  0  0  0  0  0  0  0  0  0  0  0  0  0]\n",
      " [ 0  0  0  0  0  0  0  0  0  0  0  0  0  0  0  0  0  0 13  0  0  0  0  0]\n",
      " [ 0  0  1  0  0  0  0  3  1  0  0  0  0  0  0  0  0  0  0 14  0  0  0  1]\n",
      " [ 0  0  2  0  0  0  0  0  0  2  0  0  0  0  0  0  0  0  0  0  0  0  0  0]\n",
      " [ 0  0  0  0  0  0  1  0  0  0  0  0  0  0  0  0  0  0  0  0  0 32  0  3]\n",
      " [ 0  0  0  0  0  0  0  0  6  0  0  0  1  0  0  0  0  0  0  0  0  1 15  0]\n",
      " [ 0  0  0  0  0  1  0  0  1  0  0  0  0  0  0  0  0  0  0  2  0  3  0 12]]\n"
     ]
    }
   ],
   "source": [
    "y_pred = knn_model.predict(X_test)\n",
    "knn_cm = confusion_matrix(y_test, y_pred)\n",
    "print(knn_cm)"
   ]
  },
  {
   "cell_type": "code",
   "execution_count": 38,
   "metadata": {},
   "outputs": [
    {
     "data": {
      "text/plain": [
       "Text(114.0, 0.5, 'Truth')"
      ]
     },
     "execution_count": 38,
     "metadata": {},
     "output_type": "execute_result"
    },
    {
     "data": {
      "image/png": "[encoded data removed]",
      "text/plain": [
       "<Figure size 1080x504 with 2 Axes>"
      ]
     },
     "metadata": {
      "needs_background": "light"
     },
     "output_type": "display_data"
    }
   ],
   "source": [
    "#heatmap आपल्या simplycity साठी \n",
    "plt.figure(figsize=(15,7))\n",
    "sn.heatmap(knn_cm,xticklabels=l,yticklabels=l,annot=True)\n",
    "plt.xlabel('Predicted')\n",
    "plt.ylabel('Truth')"
   ]
  },
  {
   "cell_type": "code",
   "execution_count": 39,
   "metadata": {},
   "outputs": [
    {
     "data": {
      "text/plain": [
       "array(['Ford', 'Ford', 'Chevrolet', 'Cadillac', 'Rolls-Royce', 'Ford',\n",
       "       'Chevrolet', 'Volkswagen', 'Ford', 'Kia', 'Kia', 'Hyundai', 'Kia',\n",
       "       'Chevrolet', 'Honda', 'Honda', 'Volkswagen', 'Ford', 'Ford',\n",
       "       'Hyundai', 'Mercedes', 'Chevrolet', 'Honda', 'Chevrolet', 'Honda',\n",
       "       'Chevrolet', 'Ford', 'Toyota', 'Mitsubishi', 'Mitsubishi', 'Ford',\n",
       "       'Ford', 'Hyundai', 'Volvo', 'Ford', 'Chevrolet', 'Mazda',\n",
       "       'Chevrolet', 'Volvo', 'Mazda', 'Chevrolet', 'BMW Motorrad',\n",
       "       'Volkswagen', 'Toyota', 'Chevrolet', 'Hyundai', 'Chevrolet',\n",
       "       'Honda', 'Chevrolet', 'Audi', 'Kia', 'Audi', 'Mitsubishi',\n",
       "       'Toyota', 'Kia', 'Hyundai', 'Kia', 'Hyundai', 'Kia', 'Toyota',\n",
       "       'Chevrolet', 'Toyota', 'BMW', 'Hyundai', 'Chevrolet', 'Chevrolet',\n",
       "       'Mitsubishi', 'Ford', 'Toyota', 'BMW Motorrad', 'Toyota', 'Ford',\n",
       "       'Honda', 'Volvo', 'Ford', 'Toyota', 'Volvo', 'Volvo', 'Hyundai',\n",
       "       'Hyundai', 'Audi', 'Kia', 'Ford', 'Hyundai', 'Toyota', 'Kia',\n",
       "       'BMW Motorrad', 'Toyota', 'Chevrolet', 'Nissan', 'Toyota',\n",
       "       'Hyundai', 'Audi', 'Honda', 'Mercedes', 'Volvo', 'Mitsubishi',\n",
       "       'Chevrolet', 'Honda', 'Chevrolet', 'Mitsubishi', 'Honda',\n",
       "       'Hyundai', 'Kia', 'Nissan', 'Kia', 'Chevrolet', 'Hyundai',\n",
       "       'Chevrolet', 'Toyota', 'Ford', 'Cadillac', 'Toyota', 'Hyundai',\n",
       "       'Audi', 'Audi', 'Mazda', 'Chevrolet', 'Hyundai', 'Audi', 'Audi',\n",
       "       'Bentley', 'Audi', 'Toyota', 'Honda', 'Volkswagen', 'Ford',\n",
       "       'Honda', 'Audi', 'Volvo', 'Chevrolet', 'Audi', 'Mitsubishi',\n",
       "       'Honda', 'Honda', 'Hyundai', 'Volkswagen', 'Toyota', 'Cadillac',\n",
       "       'Chevrolet', 'Bentley', 'Ford', 'Chevrolet', 'Nissan', 'Chevrolet',\n",
       "       'Hyundai', 'Audi', 'Hyundai', 'Infiniti', 'Ford', 'Toyota',\n",
       "       'Hyundai', 'Chevrolet', 'Chevrolet', 'Audi', 'Ford', 'Ford',\n",
       "       'Cadillac', 'Hyundai', 'Ford', 'Kia', 'Cadillac', 'Toyota', 'Ford',\n",
       "       'Hyundai', 'Toyota', 'Toyota', 'Ford', 'Chevrolet', 'Chevrolet',\n",
       "       'Lexus', 'Ford', 'Audi', 'Audi', 'BMW Motorrad', 'Hyundai',\n",
       "       'Hyundai', 'Ford', 'Ford', 'Hyundai', 'Volkswagen', 'Hyundai',\n",
       "       'Audi', 'Hyundai', 'Volkswagen', 'Nissan', 'BMW', 'Honda',\n",
       "       'Bentley', 'Nissan', 'Toyota', 'Nissan', 'Toyota', 'Volvo',\n",
       "       'Nissan', 'Ford', 'Ford', 'Toyota', 'Hyundai', 'Honda', 'Toyota',\n",
       "       'Ford', 'Audi', 'Kia', 'Ford', 'Nissan', 'Chevrolet', 'Ford',\n",
       "       'Audi', 'Chevrolet', 'Kia', 'Nissan', 'Hyundai', 'Ford', 'Hyundai',\n",
       "       'Honda', 'Ford', 'Chevrolet', 'Audi', 'Infiniti', 'Toyota',\n",
       "       'Chevrolet', 'BMW', 'Honda', 'Ford', 'Mitsubishi', 'Ford',\n",
       "       'Chevrolet', 'Audi', 'Hyundai', 'Kia', 'Hyundai', 'Mitsubishi',\n",
       "       'Hyundai', 'Volkswagen', 'Toyota', 'Mercedes', 'Toyota',\n",
       "       'Chevrolet', 'Honda', 'Audi', 'Kia', 'Kia', 'Nissan', 'Ford',\n",
       "       'Mitsubishi', 'Ford', 'Volvo', 'Chevrolet', 'Ford', 'Toyota',\n",
       "       'Nissan', 'Nissan', 'Ford', 'Chevrolet', 'Mitsubishi', 'Kia',\n",
       "       'Audi', 'Kia', 'Ford', 'Honda', 'Honda', 'Audi', 'Ford',\n",
       "       'Chevrolet', 'Chevrolet', 'Hyundai', 'Hyundai', 'Audi', 'Honda',\n",
       "       'Ford', 'Audi', 'Chevrolet', 'Chevrolet', 'Mazda', 'Nissan', 'Kia',\n",
       "       'Hyundai', 'Volkswagen', 'Ford', 'Ford', 'Volvo', 'Volkswagen',\n",
       "       'Hyundai', 'Cadillac', 'Ford', 'BMW', 'Volvo', 'Hyundai', 'Toyota',\n",
       "       'Ford', 'Volkswagen', 'Toyota', 'Hyundai', 'Kia', 'Hyundai',\n",
       "       'Hyundai', 'Hyundai', 'Kia', 'Honda', 'Mercedes-Benz', 'Ford',\n",
       "       'Mitsubishi', 'Toyota', 'Hyundai', 'Ford', 'Chevrolet', 'Honda',\n",
       "       'AMG', 'Chevrolet', 'Ford', 'Volvo', 'Volkswagen', 'Toyota', 'Kia',\n",
       "       'Hyundai', 'Chevrolet', 'Ford', 'Chevrolet', 'Nissan', 'Hyundai',\n",
       "       'Chevrolet', 'Kia', 'Volkswagen', 'Ford', 'Volkswagen', 'Volvo',\n",
       "       'Hyundai', 'Chevrolet', 'Mercedes', 'Toyota', 'BMW Motorrad',\n",
       "       'BMW', 'Ford', 'Kia', 'Nissan', 'Kia', 'Bentley', 'Ford',\n",
       "       'Chevrolet', 'Toyota', 'Chevrolet', 'Volkswagen', 'Audi',\n",
       "       'Chevrolet', 'Hyundai', 'Hyundai', 'Honda', 'Toyota', 'Chevrolet',\n",
       "       'Chevrolet', 'Nissan', 'Volvo', 'Volvo', 'Toyota', 'Bentley',\n",
       "       'Chevrolet', 'Chevrolet', 'Nissan', 'Bentley', 'Nissan', 'Ford',\n",
       "       'Ford', 'Ford', 'Ford', 'Volvo', 'Kia', 'Hyundai', 'BMW', 'Ford',\n",
       "       'Hyundai', 'Kia', 'Ford', 'Kia', 'Infiniti', 'Toyota', 'Toyota',\n",
       "       'Toyota', 'Chevrolet', 'Ford', 'Toyota', 'BMW', 'Hyundai', 'BMW',\n",
       "       'Volvo', 'Kia', 'Ford', 'Volvo', 'Hyundai', 'Ford', 'Kia', 'Honda',\n",
       "       'Ford', 'Honda', 'Ford', 'Kia', 'Kia', 'Hyundai', 'Chevrolet',\n",
       "       'Kia', 'Volvo', 'Chevrolet', 'Chevrolet', 'Mazda', 'Mitsubishi',\n",
       "       'Volkswagen', 'Audi', 'Toyota', 'Ford', 'Nissan', 'Ford',\n",
       "       'Cadillac', 'Chevrolet', 'Chevrolet', 'Toyota', 'Ford', 'Hyundai',\n",
       "       'Kia', 'Ford', 'Maybach'], dtype=object)"
      ]
     },
     "execution_count": 39,
     "metadata": {},
     "output_type": "execute_result"
    }
   ],
   "source": [
    "knn_model.predict(X_test)"
   ]
  },
  {
   "cell_type": "code",
   "execution_count": 40,
   "metadata": {},
   "outputs": [
    {
     "data": {
      "text/html": [
       "<div>\n",
       "<style scoped>\n",
       "    .dataframe tbody tr th:only-of-type {\n",
       "        vertical-align: middle;\n",
       "    }\n",
       "\n",
       "    .dataframe tbody tr th {\n",
       "        vertical-align: top;\n",
       "    }\n",
       "\n",
       "    .dataframe thead th {\n",
       "        text-align: right;\n",
       "    }\n",
       "</style>\n",
       "<table border=\"1\" class=\"dataframe\">\n",
       "  <thead>\n",
       "    <tr style=\"text-align: right;\">\n",
       "      <th></th>\n",
       "      <th>Citympg</th>\n",
       "      <th>price</th>\n",
       "      <th>Horsepower</th>\n",
       "      <th>Highwaympg</th>\n",
       "    </tr>\n",
       "  </thead>\n",
       "  <tbody>\n",
       "    <tr>\n",
       "      <th>1116</th>\n",
       "      <td>17</td>\n",
       "      <td>1117000</td>\n",
       "      <td>273</td>\n",
       "      <td>24</td>\n",
       "    </tr>\n",
       "    <tr>\n",
       "      <th>899</th>\n",
       "      <td>18</td>\n",
       "      <td>900000</td>\n",
       "      <td>263</td>\n",
       "      <td>28</td>\n",
       "    </tr>\n",
       "    <tr>\n",
       "      <th>816</th>\n",
       "      <td>18</td>\n",
       "      <td>817000</td>\n",
       "      <td>304</td>\n",
       "      <td>29</td>\n",
       "    </tr>\n",
       "    <tr>\n",
       "      <th>1262</th>\n",
       "      <td>14</td>\n",
       "      <td>1263000</td>\n",
       "      <td>310</td>\n",
       "      <td>20</td>\n",
       "    </tr>\n",
       "    <tr>\n",
       "      <th>251</th>\n",
       "      <td>21</td>\n",
       "      <td>252000</td>\n",
       "      <td>211</td>\n",
       "      <td>29</td>\n",
       "    </tr>\n",
       "    <tr>\n",
       "      <th>...</th>\n",
       "      <td>...</td>\n",
       "      <td>...</td>\n",
       "      <td>...</td>\n",
       "      <td>...</td>\n",
       "    </tr>\n",
       "    <tr>\n",
       "      <th>789</th>\n",
       "      <td>15</td>\n",
       "      <td>790000</td>\n",
       "      <td>550</td>\n",
       "      <td>23</td>\n",
       "    </tr>\n",
       "    <tr>\n",
       "      <th>1101</th>\n",
       "      <td>21</td>\n",
       "      <td>1102000</td>\n",
       "      <td>170</td>\n",
       "      <td>28</td>\n",
       "    </tr>\n",
       "    <tr>\n",
       "      <th>829</th>\n",
       "      <td>20</td>\n",
       "      <td>830000</td>\n",
       "      <td>276</td>\n",
       "      <td>26</td>\n",
       "    </tr>\n",
       "    <tr>\n",
       "      <th>720</th>\n",
       "      <td>17</td>\n",
       "      <td>721000</td>\n",
       "      <td>412</td>\n",
       "      <td>26</td>\n",
       "    </tr>\n",
       "    <tr>\n",
       "      <th>354</th>\n",
       "      <td>10</td>\n",
       "      <td>355000</td>\n",
       "      <td>631</td>\n",
       "      <td>16</td>\n",
       "    </tr>\n",
       "  </tbody>\n",
       "</table>\n",
       "<p>420 rows × 4 columns</p>\n",
       "</div>"
      ],
      "text/plain": [
       "      Citympg    price  Horsepower  Highwaympg\n",
       "1116       17  1117000         273          24\n",
       "899        18   900000         263          28\n",
       "816        18   817000         304          29\n",
       "1262       14  1263000         310          20\n",
       "251        21   252000         211          29\n",
       "...       ...      ...         ...         ...\n",
       "789        15   790000         550          23\n",
       "1101       21  1102000         170          28\n",
       "829        20   830000         276          26\n",
       "720        17   721000         412          26\n",
       "354        10   355000         631          16\n",
       "\n",
       "[420 rows x 4 columns]"
      ]
     },
     "execution_count": 40,
     "metadata": {},
     "output_type": "execute_result"
    }
   ],
   "source": [
    "X_test"
   ]
  },
  {
   "cell_type": "code",
   "execution_count": 41,
   "metadata": {},
   "outputs": [
    {
     "data": {
      "text/plain": [
       "1116        Mazda\n",
       "899          Ford\n",
       "816     Chevrolet\n",
       "1262       Toyota\n",
       "251          Audi\n",
       "          ...    \n",
       "789          Ford\n",
       "1101      Hyundai\n",
       "829           Kia\n",
       "720          Ford\n",
       "354       Maybach\n",
       "Name: Make, Length: 420, dtype: object"
      ]
     },
     "execution_count": 41,
     "metadata": {},
     "output_type": "execute_result"
    }
   ],
   "source": [
    "y_test"
   ]
  },
  {
   "cell_type": "markdown",
   "metadata": {},
   "source": [
    "**Using KNN classifier predict car company name by entering city mileage, price, horsepower and highway mileage**"
   ]
  },
  {
   "cell_type": "code",
   "execution_count": 64,
   "metadata": {},
   "outputs": [
    {
     "data": {
      "text/plain": [
       "array(['Kia'], dtype=object)"
      ]
     },
     "execution_count": 64,
     "metadata": {},
     "output_type": "execute_result"
    }
   ],
   "source": [
    "#knn_model.predict([[21,825000,175,27]])\n",
    "city_M =float(input('What is the city mileage -'))\n",
    "price = float(input('What is the price -'))\n",
    "hp=int(input('Enter hp of car- '))\n",
    "highway_M=float(input('Enter highway mileage-:'))\n",
    "knn_model.predict([[city_M,price,hp,highway_M]]):"
   ]
  },
  {
   "cell_type": "markdown",
   "metadata": {},
   "source": [
    "<h2 style='color:Red' align='center'>Cross Validation</h2>\n",
    "default - Stratified KFold use केलं जाते"
   ]
  },
  {
   "cell_type": "code",
   "execution_count": 42,
   "metadata": {},
   "outputs": [
    {
     "name": "stderr",
     "output_type": "stream",
     "text": [
      "C:\\Users\\AKASH\\anaconda3\\lib\\site-packages\\sklearn\\model_selection\\_split.py:670: UserWarning: The least populated class in y has only 2 members, which is less than n_splits=5.\n",
      "  warnings.warn((\"The least populated class in y has only %d\"\n",
      "C:\\Users\\AKASH\\anaconda3\\lib\\site-packages\\sklearn\\linear_model\\_logistic.py:762: ConvergenceWarning: lbfgs failed to converge (status=1):\n",
      "STOP: TOTAL NO. of ITERATIONS REACHED LIMIT.\n",
      "\n",
      "Increase the number of iterations (max_iter) or scale the data as shown in:\n",
      "    https://scikit-learn.org/stable/modules/preprocessing.html\n",
      "Please also refer to the documentation for alternative solver options:\n",
      "    https://scikit-learn.org/stable/modules/linear_model.html#logistic-regression\n",
      "  n_iter_i = _check_optimize_result(\n",
      "C:\\Users\\AKASH\\anaconda3\\lib\\site-packages\\sklearn\\linear_model\\_logistic.py:762: ConvergenceWarning: lbfgs failed to converge (status=1):\n",
      "STOP: TOTAL NO. of ITERATIONS REACHED LIMIT.\n",
      "\n",
      "Increase the number of iterations (max_iter) or scale the data as shown in:\n",
      "    https://scikit-learn.org/stable/modules/preprocessing.html\n",
      "Please also refer to the documentation for alternative solver options:\n",
      "    https://scikit-learn.org/stable/modules/linear_model.html#logistic-regression\n",
      "  n_iter_i = _check_optimize_result(\n",
      "C:\\Users\\AKASH\\anaconda3\\lib\\site-packages\\sklearn\\linear_model\\_logistic.py:762: ConvergenceWarning: lbfgs failed to converge (status=1):\n",
      "STOP: TOTAL NO. of ITERATIONS REACHED LIMIT.\n",
      "\n",
      "Increase the number of iterations (max_iter) or scale the data as shown in:\n",
      "    https://scikit-learn.org/stable/modules/preprocessing.html\n",
      "Please also refer to the documentation for alternative solver options:\n",
      "    https://scikit-learn.org/stable/modules/linear_model.html#logistic-regression\n",
      "  n_iter_i = _check_optimize_result(\n",
      "C:\\Users\\AKASH\\anaconda3\\lib\\site-packages\\sklearn\\linear_model\\_logistic.py:762: ConvergenceWarning: lbfgs failed to converge (status=1):\n",
      "STOP: TOTAL NO. of ITERATIONS REACHED LIMIT.\n",
      "\n",
      "Increase the number of iterations (max_iter) or scale the data as shown in:\n",
      "    https://scikit-learn.org/stable/modules/preprocessing.html\n",
      "Please also refer to the documentation for alternative solver options:\n",
      "    https://scikit-learn.org/stable/modules/linear_model.html#logistic-regression\n",
      "  n_iter_i = _check_optimize_result(\n",
      "C:\\Users\\AKASH\\anaconda3\\lib\\site-packages\\sklearn\\linear_model\\_logistic.py:762: ConvergenceWarning: lbfgs failed to converge (status=1):\n",
      "STOP: TOTAL NO. of ITERATIONS REACHED LIMIT.\n",
      "\n",
      "Increase the number of iterations (max_iter) or scale the data as shown in:\n",
      "    https://scikit-learn.org/stable/modules/preprocessing.html\n",
      "Please also refer to the documentation for alternative solver options:\n",
      "    https://scikit-learn.org/stable/modules/linear_model.html#logistic-regression\n",
      "  n_iter_i = _check_optimize_result(\n"
     ]
    },
    {
     "data": {
      "text/plain": [
       "array([0.14285714, 0.13928571, 0.13928571, 0.13928571, 0.13978495])"
      ]
     },
     "execution_count": 42,
     "metadata": {},
     "output_type": "execute_result"
    }
   ],
   "source": [
    "#Cross Validation KFlod \n",
    "from sklearn.model_selection import cross_val_score\n",
    "score1 = cross_val_score(l_model,X,y)\n",
    "score1"
   ]
  },
  {
   "cell_type": "code",
   "execution_count": 43,
   "metadata": {},
   "outputs": [
    {
     "data": {
      "text/plain": [
       "0.14009984639016898"
      ]
     },
     "execution_count": 43,
     "metadata": {},
     "output_type": "execute_result"
    }
   ],
   "source": [
    "avg_score_logi=np.average(score1)\n",
    "avg_score_logi"
   ]
  },
  {
   "cell_type": "code",
   "execution_count": 44,
   "metadata": {},
   "outputs": [
    {
     "name": "stderr",
     "output_type": "stream",
     "text": [
      "C:\\Users\\AKASH\\anaconda3\\lib\\site-packages\\sklearn\\model_selection\\_split.py:670: UserWarning: The least populated class in y has only 2 members, which is less than n_splits=5.\n",
      "  warnings.warn((\"The least populated class in y has only %d\"\n"
     ]
    },
    {
     "data": {
      "text/plain": [
       "array([0.17857143, 0.32142857, 0.28571429, 0.25714286, 0.18637993])"
      ]
     },
     "execution_count": 44,
     "metadata": {},
     "output_type": "execute_result"
    }
   ],
   "source": [
    " #Cross Validation\n",
    "# from sklearn.model_selection import cross_val_score\n",
    "score2 = cross_val_score(KNeighborsClassifier(),X,y)\n",
    "score2"
   ]
  },
  {
   "cell_type": "code",
   "execution_count": 45,
   "metadata": {},
   "outputs": [
    {
     "data": {
      "text/plain": [
       "0.24584741423451098"
      ]
     },
     "execution_count": 45,
     "metadata": {},
     "output_type": "execute_result"
    }
   ],
   "source": [
    "avg_score_KNN=np.average(score2)\n",
    "avg_score_KNN"
   ]
  },
  {
   "cell_type": "code",
   "execution_count": 46,
   "metadata": {
    "scrolled": true
   },
   "outputs": [
    {
     "name": "stderr",
     "output_type": "stream",
     "text": [
      "C:\\Users\\AKASH\\anaconda3\\lib\\site-packages\\sklearn\\model_selection\\_split.py:670: UserWarning: The least populated class in y has only 2 members, which is less than n_splits=5.\n",
      "  warnings.warn((\"The least populated class in y has only %d\"\n"
     ]
    },
    {
     "data": {
      "text/plain": [
       "array([0.37142857, 0.52857143, 0.72857143, 0.53571429, 0.53046595])"
      ]
     },
     "execution_count": 46,
     "metadata": {},
     "output_type": "execute_result"
    }
   ],
   "source": [
    "#score3 = cross_val_score(tree.DecisionTreeClassifier(),X,y ,cv=10)\n",
    "score3 = cross_val_score(tree.DecisionTreeClassifier(),X,y)\n",
    "score3"
   ]
  },
  {
   "cell_type": "code",
   "execution_count": 47,
   "metadata": {},
   "outputs": [
    {
     "data": {
      "text/plain": [
       "0.5389503328213006"
      ]
     },
     "execution_count": 47,
     "metadata": {},
     "output_type": "execute_result"
    }
   ],
   "source": [
    "avg_score_DT=np.average(score3)\n",
    "avg_score_DT"
   ]
  },
  {
   "cell_type": "code",
   "execution_count": 48,
   "metadata": {},
   "outputs": [
    {
     "data": {
      "image/png": "[encoded data removed]",
      "text/plain": [
       "<Figure size 432x288 with 1 Axes>"
      ]
     },
     "metadata": {
      "needs_background": "light"
     },
     "output_type": "display_data"
    }
   ],
   "source": [
    "acc=[avg_score_logi,avg_score_KNN,avg_score_DT]\n",
    "bars=['Logistic','KNN','Decision Tree']\n",
    "y_pos=np.arange(len(bars))\n",
    "plt.bar(y_pos,acc,color=['red', 'green', 'blue'])\n",
    "plt.xticks(y_pos,bars)\n",
    "plt.show()"
   ]
  }
 ],
 "metadata": {
  "kernelspec": {
   "display_name": "Python 3",
   "language": "python",
   "name": "python3"
  },
  "language_info": {
   "codemirror_mode": {
    "name": "ipython",
    "version": 3
   },
   "file_extension": ".py",
   "mimetype": "text/x-python",
   "name": "python",
   "nbconvert_exporter": "python",
   "pygments_lexer": "ipython3",
   "version": "3.8.3"
  }
 },
 "nbformat": 4,
 "nbformat_minor": 2
}
